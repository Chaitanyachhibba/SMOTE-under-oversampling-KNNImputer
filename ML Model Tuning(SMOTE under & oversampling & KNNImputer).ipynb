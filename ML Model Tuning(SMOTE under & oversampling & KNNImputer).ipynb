{
 "cells": [
  {
   "cell_type": "markdown",
   "metadata": {},
   "source": [
    "### Problem Statement\n",
    "\n",
    "An Ed-Tech company wants to hire data scientists among people who have successfully passed some courses and then signed up for training. The company wants to know which of the people are really looking for a job change and will prefer working with them, after completion of training because it helps to reduce the cost and time for categorization of candidates. \n",
    "\n",
    "Information related to demographics, education, the experience is in hands from candidates signup and enrollment."
   ]
  },
  {
   "cell_type": "markdown",
   "metadata": {},
   "source": [
    "* enrollee_id: Unique ID for the candidate\n",
    "\n",
    "* city: City code\n",
    "\n",
    "* city_ development _index: Development index of the city (scaled)\n",
    "\n",
    "* gender: Gender of the candidate\n",
    "\n",
    "* relevent_experience: Relevant experience of the candidate\n",
    "\n",
    "* enrolled_university: Type of University course enrolled if any\n",
    "\n",
    "* education_level: Education level of candidate\n",
    "\n",
    "* major_discipline: Education major discipline of the candidate\n",
    "\n",
    "* experience: Candidate total experience in years\n",
    "\n",
    "* company_size: No of employees in current employer's company\n",
    "\n",
    "* company_type: Type of current employer\n",
    "\n",
    "* lastnewjob: Difference in years between previous job and current job\n",
    "\n",
    "* training_hours: training hours completed\n",
    "\n",
    "* target: 0 – Not looking for a job change, 1 – Looking for a job change\n",
    "\n",
    "\n",
    "#### What is City Development Index?\n",
    "\n",
    "* The City Development Index was developed for the Second United Nations Conference on Human Settlements (Habitat II) in 1996 and measures the level of development in cities. The Urban Indicators Programme of the United Nations Human Settlements Programme (UN-Habitat) developed the indicator so that they could rank cities of the world according to their level of development and as a display of indicators depicting development. The CDI cuts across the different clusters identified in the Urban Indicator Framework as it is based on five sub-indices namely, infrastructure, waste, health, education, and city product. It is useful as it provides a snap-shot view of how cities are doing concerning the different indices"
   ]
  },
  {
   "cell_type": "code",
   "execution_count": 108,
   "metadata": {},
   "outputs": [],
   "source": [
    "# Libraries to help with reading and manipulating data\n",
    "import numpy as np\n",
    "import pandas as pd\n",
    "# Libraries to help with data visualization\n",
    "import matplotlib.pyplot as plt\n",
    "import seaborn as sns\n",
    "# Libraries to tune model, get different metric scores, and split data\n",
    "from sklearn.model_selection import GridSearchCV\n",
    "from sklearn.model_selection import train_test_split, StratifiedKFold, cross_val_score\n",
    "from sklearn.metrics import accuracy_score,precision_score,recall_score\n",
    "from sklearn import metrics\n",
    "# Library to impute missing values\n",
    "from sklearn.impute import KNNImputer\n",
    "# Library to build a logistic regression model\n",
    "from sklearn.linear_model import LogisticRegression\n",
    "# Library to supress the warning\n",
    "import warnings\n",
    "warnings.filterwarnings('ignore')"
   ]
  },
  {
   "cell_type": "code",
   "execution_count": 109,
   "metadata": {},
   "outputs": [],
   "source": [
    "job = pd.read_csv('jobs_data.csv')"
   ]
  },
  {
   "cell_type": "code",
   "execution_count": 110,
   "metadata": {},
   "outputs": [],
   "source": [
    "# copying data to another varaible to avoid any changes to original data\n",
    "data = job.copy()"
   ]
  },
  {
   "cell_type": "markdown",
   "metadata": {},
   "source": [
    "### View the first and last 5 rows of the dataset."
   ]
  },
  {
   "cell_type": "code",
   "execution_count": 111,
   "metadata": {
    "scrolled": true
   },
   "outputs": [
    {
     "data": {
      "text/html": [
       "<div>\n",
       "<style scoped>\n",
       "    .dataframe tbody tr th:only-of-type {\n",
       "        vertical-align: middle;\n",
       "    }\n",
       "\n",
       "    .dataframe tbody tr th {\n",
       "        vertical-align: top;\n",
       "    }\n",
       "\n",
       "    .dataframe thead th {\n",
       "        text-align: right;\n",
       "    }\n",
       "</style>\n",
       "<table border=\"1\" class=\"dataframe\">\n",
       "  <thead>\n",
       "    <tr style=\"text-align: right;\">\n",
       "      <th></th>\n",
       "      <th>enrollee_id</th>\n",
       "      <th>city</th>\n",
       "      <th>city_development_index</th>\n",
       "      <th>gender</th>\n",
       "      <th>relevent_experience</th>\n",
       "      <th>enrolled_university</th>\n",
       "      <th>education_level</th>\n",
       "      <th>major_discipline</th>\n",
       "      <th>experience</th>\n",
       "      <th>company_size</th>\n",
       "      <th>company_type</th>\n",
       "      <th>last_new_job</th>\n",
       "      <th>training_hours</th>\n",
       "      <th>target</th>\n",
       "    </tr>\n",
       "  </thead>\n",
       "  <tbody>\n",
       "    <tr>\n",
       "      <th>0</th>\n",
       "      <td>8949</td>\n",
       "      <td>city_103</td>\n",
       "      <td>0.920</td>\n",
       "      <td>Male</td>\n",
       "      <td>Has relevent experience</td>\n",
       "      <td>no_enrollment</td>\n",
       "      <td>Graduate</td>\n",
       "      <td>STEM</td>\n",
       "      <td>&gt;20</td>\n",
       "      <td>NaN</td>\n",
       "      <td>NaN</td>\n",
       "      <td>1</td>\n",
       "      <td>36</td>\n",
       "      <td>1.0</td>\n",
       "    </tr>\n",
       "    <tr>\n",
       "      <th>1</th>\n",
       "      <td>29725</td>\n",
       "      <td>city_40</td>\n",
       "      <td>0.776</td>\n",
       "      <td>Male</td>\n",
       "      <td>No relevent experience</td>\n",
       "      <td>no_enrollment</td>\n",
       "      <td>Graduate</td>\n",
       "      <td>STEM</td>\n",
       "      <td>15</td>\n",
       "      <td>50-99</td>\n",
       "      <td>Pvt Ltd</td>\n",
       "      <td>&gt;4</td>\n",
       "      <td>47</td>\n",
       "      <td>0.0</td>\n",
       "    </tr>\n",
       "    <tr>\n",
       "      <th>2</th>\n",
       "      <td>11561</td>\n",
       "      <td>city_21</td>\n",
       "      <td>0.624</td>\n",
       "      <td>NaN</td>\n",
       "      <td>No relevent experience</td>\n",
       "      <td>Full time course</td>\n",
       "      <td>Graduate</td>\n",
       "      <td>STEM</td>\n",
       "      <td>5</td>\n",
       "      <td>NaN</td>\n",
       "      <td>NaN</td>\n",
       "      <td>never</td>\n",
       "      <td>83</td>\n",
       "      <td>0.0</td>\n",
       "    </tr>\n",
       "    <tr>\n",
       "      <th>3</th>\n",
       "      <td>33241</td>\n",
       "      <td>city_115</td>\n",
       "      <td>0.789</td>\n",
       "      <td>NaN</td>\n",
       "      <td>No relevent experience</td>\n",
       "      <td>NaN</td>\n",
       "      <td>Graduate</td>\n",
       "      <td>Business Degree</td>\n",
       "      <td>&lt;1</td>\n",
       "      <td>NaN</td>\n",
       "      <td>Pvt Ltd</td>\n",
       "      <td>never</td>\n",
       "      <td>52</td>\n",
       "      <td>1.0</td>\n",
       "    </tr>\n",
       "    <tr>\n",
       "      <th>4</th>\n",
       "      <td>666</td>\n",
       "      <td>city_162</td>\n",
       "      <td>0.767</td>\n",
       "      <td>Male</td>\n",
       "      <td>Has relevent experience</td>\n",
       "      <td>no_enrollment</td>\n",
       "      <td>Masters</td>\n",
       "      <td>STEM</td>\n",
       "      <td>&gt;20</td>\n",
       "      <td>50-99</td>\n",
       "      <td>Funded Startup</td>\n",
       "      <td>4</td>\n",
       "      <td>8</td>\n",
       "      <td>0.0</td>\n",
       "    </tr>\n",
       "  </tbody>\n",
       "</table>\n",
       "</div>"
      ],
      "text/plain": [
       "   enrollee_id      city  city_development_index gender  \\\n",
       "0         8949  city_103                   0.920   Male   \n",
       "1        29725   city_40                   0.776   Male   \n",
       "2        11561   city_21                   0.624    NaN   \n",
       "3        33241  city_115                   0.789    NaN   \n",
       "4          666  city_162                   0.767   Male   \n",
       "\n",
       "       relevent_experience enrolled_university education_level  \\\n",
       "0  Has relevent experience       no_enrollment        Graduate   \n",
       "1   No relevent experience       no_enrollment        Graduate   \n",
       "2   No relevent experience    Full time course        Graduate   \n",
       "3   No relevent experience                 NaN        Graduate   \n",
       "4  Has relevent experience       no_enrollment         Masters   \n",
       "\n",
       "  major_discipline experience company_size    company_type last_new_job  \\\n",
       "0             STEM        >20          NaN             NaN            1   \n",
       "1             STEM         15        50-99         Pvt Ltd           >4   \n",
       "2             STEM          5          NaN             NaN        never   \n",
       "3  Business Degree         <1          NaN         Pvt Ltd        never   \n",
       "4             STEM        >20        50-99  Funded Startup            4   \n",
       "\n",
       "   training_hours  target  \n",
       "0              36     1.0  \n",
       "1              47     0.0  \n",
       "2              83     0.0  \n",
       "3              52     1.0  \n",
       "4               8     0.0  "
      ]
     },
     "execution_count": 111,
     "metadata": {},
     "output_type": "execute_result"
    }
   ],
   "source": [
    "data.head()"
   ]
  },
  {
   "cell_type": "code",
   "execution_count": 112,
   "metadata": {},
   "outputs": [
    {
     "data": {
      "text/html": [
       "<div>\n",
       "<style scoped>\n",
       "    .dataframe tbody tr th:only-of-type {\n",
       "        vertical-align: middle;\n",
       "    }\n",
       "\n",
       "    .dataframe tbody tr th {\n",
       "        vertical-align: top;\n",
       "    }\n",
       "\n",
       "    .dataframe thead th {\n",
       "        text-align: right;\n",
       "    }\n",
       "</style>\n",
       "<table border=\"1\" class=\"dataframe\">\n",
       "  <thead>\n",
       "    <tr style=\"text-align: right;\">\n",
       "      <th></th>\n",
       "      <th>enrollee_id</th>\n",
       "      <th>city</th>\n",
       "      <th>city_development_index</th>\n",
       "      <th>gender</th>\n",
       "      <th>relevent_experience</th>\n",
       "      <th>enrolled_university</th>\n",
       "      <th>education_level</th>\n",
       "      <th>major_discipline</th>\n",
       "      <th>experience</th>\n",
       "      <th>company_size</th>\n",
       "      <th>company_type</th>\n",
       "      <th>last_new_job</th>\n",
       "      <th>training_hours</th>\n",
       "      <th>target</th>\n",
       "    </tr>\n",
       "  </thead>\n",
       "  <tbody>\n",
       "    <tr>\n",
       "      <th>19153</th>\n",
       "      <td>7386</td>\n",
       "      <td>city_173</td>\n",
       "      <td>0.878</td>\n",
       "      <td>Male</td>\n",
       "      <td>No relevent experience</td>\n",
       "      <td>no_enrollment</td>\n",
       "      <td>Graduate</td>\n",
       "      <td>Humanities</td>\n",
       "      <td>14</td>\n",
       "      <td>NaN</td>\n",
       "      <td>NaN</td>\n",
       "      <td>1</td>\n",
       "      <td>42</td>\n",
       "      <td>1.0</td>\n",
       "    </tr>\n",
       "    <tr>\n",
       "      <th>19154</th>\n",
       "      <td>31398</td>\n",
       "      <td>city_103</td>\n",
       "      <td>0.920</td>\n",
       "      <td>Male</td>\n",
       "      <td>Has relevent experience</td>\n",
       "      <td>no_enrollment</td>\n",
       "      <td>Graduate</td>\n",
       "      <td>STEM</td>\n",
       "      <td>14</td>\n",
       "      <td>NaN</td>\n",
       "      <td>NaN</td>\n",
       "      <td>4</td>\n",
       "      <td>52</td>\n",
       "      <td>1.0</td>\n",
       "    </tr>\n",
       "    <tr>\n",
       "      <th>19155</th>\n",
       "      <td>24576</td>\n",
       "      <td>city_103</td>\n",
       "      <td>0.920</td>\n",
       "      <td>Male</td>\n",
       "      <td>Has relevent experience</td>\n",
       "      <td>no_enrollment</td>\n",
       "      <td>Graduate</td>\n",
       "      <td>STEM</td>\n",
       "      <td>&gt;20</td>\n",
       "      <td>50-99</td>\n",
       "      <td>Pvt Ltd</td>\n",
       "      <td>4</td>\n",
       "      <td>44</td>\n",
       "      <td>0.0</td>\n",
       "    </tr>\n",
       "    <tr>\n",
       "      <th>19156</th>\n",
       "      <td>5756</td>\n",
       "      <td>city_65</td>\n",
       "      <td>0.802</td>\n",
       "      <td>Male</td>\n",
       "      <td>Has relevent experience</td>\n",
       "      <td>no_enrollment</td>\n",
       "      <td>High School</td>\n",
       "      <td>NaN</td>\n",
       "      <td>&lt;1</td>\n",
       "      <td>500-999</td>\n",
       "      <td>Pvt Ltd</td>\n",
       "      <td>2</td>\n",
       "      <td>97</td>\n",
       "      <td>0.0</td>\n",
       "    </tr>\n",
       "    <tr>\n",
       "      <th>19157</th>\n",
       "      <td>23834</td>\n",
       "      <td>city_67</td>\n",
       "      <td>0.855</td>\n",
       "      <td>NaN</td>\n",
       "      <td>No relevent experience</td>\n",
       "      <td>no_enrollment</td>\n",
       "      <td>Primary School</td>\n",
       "      <td>NaN</td>\n",
       "      <td>2</td>\n",
       "      <td>NaN</td>\n",
       "      <td>NaN</td>\n",
       "      <td>1</td>\n",
       "      <td>127</td>\n",
       "      <td>0.0</td>\n",
       "    </tr>\n",
       "  </tbody>\n",
       "</table>\n",
       "</div>"
      ],
      "text/plain": [
       "       enrollee_id      city  city_development_index gender  \\\n",
       "19153         7386  city_173                   0.878   Male   \n",
       "19154        31398  city_103                   0.920   Male   \n",
       "19155        24576  city_103                   0.920   Male   \n",
       "19156         5756   city_65                   0.802   Male   \n",
       "19157        23834   city_67                   0.855    NaN   \n",
       "\n",
       "           relevent_experience enrolled_university education_level  \\\n",
       "19153   No relevent experience       no_enrollment        Graduate   \n",
       "19154  Has relevent experience       no_enrollment        Graduate   \n",
       "19155  Has relevent experience       no_enrollment        Graduate   \n",
       "19156  Has relevent experience       no_enrollment     High School   \n",
       "19157   No relevent experience       no_enrollment  Primary School   \n",
       "\n",
       "      major_discipline experience company_size company_type last_new_job  \\\n",
       "19153       Humanities         14          NaN          NaN            1   \n",
       "19154             STEM         14          NaN          NaN            4   \n",
       "19155             STEM        >20        50-99      Pvt Ltd            4   \n",
       "19156              NaN         <1      500-999      Pvt Ltd            2   \n",
       "19157              NaN          2          NaN          NaN            1   \n",
       "\n",
       "       training_hours  target  \n",
       "19153              42     1.0  \n",
       "19154              52     1.0  \n",
       "19155              44     0.0  \n",
       "19156              97     0.0  \n",
       "19157             127     0.0  "
      ]
     },
     "execution_count": 112,
     "metadata": {},
     "output_type": "execute_result"
    }
   ],
   "source": [
    "data.tail()"
   ]
  },
  {
   "cell_type": "markdown",
   "metadata": {
    "colab_type": "text",
    "id": "dEuSu6e4hU2e"
   },
   "source": [
    "### Understand the shape of the dataset."
   ]
  },
  {
   "cell_type": "code",
   "execution_count": 113,
   "metadata": {},
   "outputs": [
    {
     "data": {
      "text/plain": [
       "(19158, 14)"
      ]
     },
     "execution_count": 113,
     "metadata": {},
     "output_type": "execute_result"
    }
   ],
   "source": [
    "data.shape"
   ]
  },
  {
   "cell_type": "markdown",
   "metadata": {},
   "source": [
    "* The dataset has 19158 rows and 14 columns "
   ]
  },
  {
   "cell_type": "markdown",
   "metadata": {
    "colab_type": "text",
    "id": "mwAu-vEwhU2m"
   },
   "source": [
    "### Check the data types of the columns for the dataset."
   ]
  },
  {
   "cell_type": "code",
   "execution_count": 114,
   "metadata": {},
   "outputs": [
    {
     "name": "stdout",
     "output_type": "stream",
     "text": [
      "<class 'pandas.core.frame.DataFrame'>\n",
      "RangeIndex: 19158 entries, 0 to 19157\n",
      "Data columns (total 14 columns):\n",
      " #   Column                  Non-Null Count  Dtype  \n",
      "---  ------                  --------------  -----  \n",
      " 0   enrollee_id             19158 non-null  int64  \n",
      " 1   city                    19158 non-null  object \n",
      " 2   city_development_index  19158 non-null  float64\n",
      " 3   gender                  14650 non-null  object \n",
      " 4   relevent_experience     19158 non-null  object \n",
      " 5   enrolled_university     18772 non-null  object \n",
      " 6   education_level         18698 non-null  object \n",
      " 7   major_discipline        16345 non-null  object \n",
      " 8   experience              19093 non-null  object \n",
      " 9   company_size            13220 non-null  object \n",
      " 10  company_type            13018 non-null  object \n",
      " 11  last_new_job            18735 non-null  object \n",
      " 12  training_hours          19158 non-null  int64  \n",
      " 13  target                  19158 non-null  float64\n",
      "dtypes: float64(2), int64(2), object(10)\n",
      "memory usage: 2.0+ MB\n"
     ]
    }
   ],
   "source": [
    "data.info()"
   ]
  },
  {
   "cell_type": "markdown",
   "metadata": {},
   "source": [
    "* Only 4 variables are numerical rest all are object types.\n",
    "* 8 columns have less than 19158 non-null values i.e. columns have missing values."
   ]
  },
  {
   "cell_type": "code",
   "execution_count": 115,
   "metadata": {},
   "outputs": [
    {
     "data": {
      "text/plain": [
       "enrollee_id                  0\n",
       "city                         0\n",
       "city_development_index       0\n",
       "gender                    4508\n",
       "relevent_experience          0\n",
       "enrolled_university        386\n",
       "education_level            460\n",
       "major_discipline          2813\n",
       "experience                  65\n",
       "company_size              5938\n",
       "company_type              6140\n",
       "last_new_job               423\n",
       "training_hours               0\n",
       "target                       0\n",
       "dtype: int64"
      ]
     },
     "execution_count": 115,
     "metadata": {},
     "output_type": "execute_result"
    }
   ],
   "source": [
    "data.isnull().sum()"
   ]
  },
  {
   "cell_type": "markdown",
   "metadata": {},
   "source": [
    "**Check the percentage of missing values in each column**"
   ]
  },
  {
   "cell_type": "code",
   "execution_count": 116,
   "metadata": {},
   "outputs": [
    {
     "data": {
      "text/html": [
       "<div>\n",
       "<style scoped>\n",
       "    .dataframe tbody tr th:only-of-type {\n",
       "        vertical-align: middle;\n",
       "    }\n",
       "\n",
       "    .dataframe tbody tr th {\n",
       "        vertical-align: top;\n",
       "    }\n",
       "\n",
       "    .dataframe thead th {\n",
       "        text-align: right;\n",
       "    }\n",
       "</style>\n",
       "<table border=\"1\" class=\"dataframe\">\n",
       "  <thead>\n",
       "    <tr style=\"text-align: right;\">\n",
       "      <th></th>\n",
       "      <th>% of Missing Values</th>\n",
       "    </tr>\n",
       "  </thead>\n",
       "  <tbody>\n",
       "    <tr>\n",
       "      <th>company_type</th>\n",
       "      <td>32.05</td>\n",
       "    </tr>\n",
       "    <tr>\n",
       "      <th>company_size</th>\n",
       "      <td>30.99</td>\n",
       "    </tr>\n",
       "    <tr>\n",
       "      <th>gender</th>\n",
       "      <td>23.53</td>\n",
       "    </tr>\n",
       "    <tr>\n",
       "      <th>major_discipline</th>\n",
       "      <td>14.68</td>\n",
       "    </tr>\n",
       "    <tr>\n",
       "      <th>education_level</th>\n",
       "      <td>2.40</td>\n",
       "    </tr>\n",
       "    <tr>\n",
       "      <th>last_new_job</th>\n",
       "      <td>2.21</td>\n",
       "    </tr>\n",
       "    <tr>\n",
       "      <th>enrolled_university</th>\n",
       "      <td>2.01</td>\n",
       "    </tr>\n",
       "    <tr>\n",
       "      <th>experience</th>\n",
       "      <td>0.34</td>\n",
       "    </tr>\n",
       "    <tr>\n",
       "      <th>enrollee_id</th>\n",
       "      <td>0.00</td>\n",
       "    </tr>\n",
       "    <tr>\n",
       "      <th>city</th>\n",
       "      <td>0.00</td>\n",
       "    </tr>\n",
       "    <tr>\n",
       "      <th>city_development_index</th>\n",
       "      <td>0.00</td>\n",
       "    </tr>\n",
       "    <tr>\n",
       "      <th>relevent_experience</th>\n",
       "      <td>0.00</td>\n",
       "    </tr>\n",
       "    <tr>\n",
       "      <th>training_hours</th>\n",
       "      <td>0.00</td>\n",
       "    </tr>\n",
       "    <tr>\n",
       "      <th>target</th>\n",
       "      <td>0.00</td>\n",
       "    </tr>\n",
       "  </tbody>\n",
       "</table>\n",
       "</div>"
      ],
      "text/plain": [
       "                        % of Missing Values\n",
       "company_type                          32.05\n",
       "company_size                          30.99\n",
       "gender                                23.53\n",
       "major_discipline                      14.68\n",
       "education_level                        2.40\n",
       "last_new_job                           2.21\n",
       "enrolled_university                    2.01\n",
       "experience                             0.34\n",
       "enrollee_id                            0.00\n",
       "city                                   0.00\n",
       "city_development_index                 0.00\n",
       "relevent_experience                    0.00\n",
       "training_hours                         0.00\n",
       "target                                 0.00"
      ]
     },
     "execution_count": 116,
     "metadata": {},
     "output_type": "execute_result"
    }
   ],
   "source": [
    "pd.DataFrame(data={'% of Missing Values':round(data.isnull().sum()/data.isnull().count()*100,2)}).sort_values(by='% of Missing Values',ascending=False)"
   ]
  },
  {
   "cell_type": "markdown",
   "metadata": {},
   "source": [
    "* `company_type` column has 32.05% missing values out of the total observations.\n",
    "* `company_size` column has 30.99% missing values out of the total observations.\n",
    "* `gender` column has 23.53% missing values out of the total observations.\n",
    "* `major_discipline` column has 14.68% missing values out of the total observations.\n",
    "* `education_level` column has 2.40% missing values out of the total observations.\n",
    "* `last_new_job` column has 2.21% missing values out of the total observations.\n",
    "* `enrolled_university` column has 2.01% missing values out of the total observations.\n",
    "* `experience` column has 0.34% missing values out of the total observations.\n",
    "* We will impute these values after we split the data into train and test sets."
   ]
  },
  {
   "cell_type": "markdown",
   "metadata": {
    "colab_type": "text",
    "id": "7E1orwlJhU20"
   },
   "source": [
    "### Summary of the dataset."
   ]
  },
  {
   "cell_type": "code",
   "execution_count": 117,
   "metadata": {},
   "outputs": [
    {
     "data": {
      "text/html": [
       "<div>\n",
       "<style scoped>\n",
       "    .dataframe tbody tr th:only-of-type {\n",
       "        vertical-align: middle;\n",
       "    }\n",
       "\n",
       "    .dataframe tbody tr th {\n",
       "        vertical-align: top;\n",
       "    }\n",
       "\n",
       "    .dataframe thead th {\n",
       "        text-align: right;\n",
       "    }\n",
       "</style>\n",
       "<table border=\"1\" class=\"dataframe\">\n",
       "  <thead>\n",
       "    <tr style=\"text-align: right;\">\n",
       "      <th></th>\n",
       "      <th>count</th>\n",
       "      <th>mean</th>\n",
       "      <th>std</th>\n",
       "      <th>min</th>\n",
       "      <th>25%</th>\n",
       "      <th>50%</th>\n",
       "      <th>75%</th>\n",
       "      <th>max</th>\n",
       "    </tr>\n",
       "  </thead>\n",
       "  <tbody>\n",
       "    <tr>\n",
       "      <th>enrollee_id</th>\n",
       "      <td>19158.0</td>\n",
       "      <td>16875.358179</td>\n",
       "      <td>9616.292592</td>\n",
       "      <td>1.000</td>\n",
       "      <td>8554.25</td>\n",
       "      <td>16982.500</td>\n",
       "      <td>25169.75</td>\n",
       "      <td>33380.000</td>\n",
       "    </tr>\n",
       "    <tr>\n",
       "      <th>city_development_index</th>\n",
       "      <td>19158.0</td>\n",
       "      <td>0.828848</td>\n",
       "      <td>0.123362</td>\n",
       "      <td>0.448</td>\n",
       "      <td>0.74</td>\n",
       "      <td>0.903</td>\n",
       "      <td>0.92</td>\n",
       "      <td>0.949</td>\n",
       "    </tr>\n",
       "    <tr>\n",
       "      <th>training_hours</th>\n",
       "      <td>19158.0</td>\n",
       "      <td>65.366896</td>\n",
       "      <td>60.058462</td>\n",
       "      <td>1.000</td>\n",
       "      <td>23.00</td>\n",
       "      <td>47.000</td>\n",
       "      <td>88.00</td>\n",
       "      <td>336.000</td>\n",
       "    </tr>\n",
       "    <tr>\n",
       "      <th>target</th>\n",
       "      <td>19158.0</td>\n",
       "      <td>0.249348</td>\n",
       "      <td>0.432647</td>\n",
       "      <td>0.000</td>\n",
       "      <td>0.00</td>\n",
       "      <td>0.000</td>\n",
       "      <td>0.00</td>\n",
       "      <td>1.000</td>\n",
       "    </tr>\n",
       "  </tbody>\n",
       "</table>\n",
       "</div>"
      ],
      "text/plain": [
       "                          count          mean          std    min      25%  \\\n",
       "enrollee_id             19158.0  16875.358179  9616.292592  1.000  8554.25   \n",
       "city_development_index  19158.0      0.828848     0.123362  0.448     0.74   \n",
       "training_hours          19158.0     65.366896    60.058462  1.000    23.00   \n",
       "target                  19158.0      0.249348     0.432647  0.000     0.00   \n",
       "\n",
       "                              50%       75%        max  \n",
       "enrollee_id             16982.500  25169.75  33380.000  \n",
       "city_development_index      0.903      0.92      0.949  \n",
       "training_hours             47.000     88.00    336.000  \n",
       "target                      0.000      0.00      1.000  "
      ]
     },
     "execution_count": 117,
     "metadata": {},
     "output_type": "execute_result"
    }
   ],
   "source": [
    "data.describe().T"
   ]
  },
  {
   "cell_type": "markdown",
   "metadata": {},
   "source": [
    "**Observations-**\n",
    "* `enrollee_id:` enrollee_id being a unique identifier doesn't add any meaning to the analysis and can be dropped.\n",
    "* `city_developement_index:` Since the value of the city development index is normalized a 0.82 average value indicates that most of the data we have is from fairly developed cities (metropolitan cities). However, the range of the index is large and varies from 0.448 to 0.949.\n",
    "* `training_hours:` Training hours has a wide range from 60hrs to 336hrs. On average, an enrollee has 65hrs of training. 755 of the enrollees less than (or equal to) 88hrs of training.\n",
    "* `target:` 75% of the enrollees in data are not looking for a job and maybe they just signed up to get trained in new technologies"
   ]
  },
  {
   "cell_type": "code",
   "execution_count": 118,
   "metadata": {},
   "outputs": [],
   "source": [
    "data.drop(['enrollee_id'],axis=1,inplace=True)"
   ]
  },
  {
   "cell_type": "code",
   "execution_count": 119,
   "metadata": {},
   "outputs": [
    {
     "data": {
      "text/html": [
       "<div>\n",
       "<style scoped>\n",
       "    .dataframe tbody tr th:only-of-type {\n",
       "        vertical-align: middle;\n",
       "    }\n",
       "\n",
       "    .dataframe tbody tr th {\n",
       "        vertical-align: top;\n",
       "    }\n",
       "\n",
       "    .dataframe thead th {\n",
       "        text-align: right;\n",
       "    }\n",
       "</style>\n",
       "<table border=\"1\" class=\"dataframe\">\n",
       "  <thead>\n",
       "    <tr style=\"text-align: right;\">\n",
       "      <th></th>\n",
       "      <th>count</th>\n",
       "      <th>unique</th>\n",
       "      <th>top</th>\n",
       "      <th>freq</th>\n",
       "    </tr>\n",
       "  </thead>\n",
       "  <tbody>\n",
       "    <tr>\n",
       "      <th>city</th>\n",
       "      <td>19158</td>\n",
       "      <td>123</td>\n",
       "      <td>city_103</td>\n",
       "      <td>4355</td>\n",
       "    </tr>\n",
       "    <tr>\n",
       "      <th>gender</th>\n",
       "      <td>14650</td>\n",
       "      <td>3</td>\n",
       "      <td>Male</td>\n",
       "      <td>13221</td>\n",
       "    </tr>\n",
       "    <tr>\n",
       "      <th>relevent_experience</th>\n",
       "      <td>19158</td>\n",
       "      <td>2</td>\n",
       "      <td>Has relevent experience</td>\n",
       "      <td>13792</td>\n",
       "    </tr>\n",
       "    <tr>\n",
       "      <th>enrolled_university</th>\n",
       "      <td>18772</td>\n",
       "      <td>3</td>\n",
       "      <td>no_enrollment</td>\n",
       "      <td>13817</td>\n",
       "    </tr>\n",
       "    <tr>\n",
       "      <th>education_level</th>\n",
       "      <td>18698</td>\n",
       "      <td>5</td>\n",
       "      <td>Graduate</td>\n",
       "      <td>11598</td>\n",
       "    </tr>\n",
       "    <tr>\n",
       "      <th>major_discipline</th>\n",
       "      <td>16345</td>\n",
       "      <td>6</td>\n",
       "      <td>STEM</td>\n",
       "      <td>14492</td>\n",
       "    </tr>\n",
       "    <tr>\n",
       "      <th>experience</th>\n",
       "      <td>19093</td>\n",
       "      <td>22</td>\n",
       "      <td>&gt;20</td>\n",
       "      <td>3286</td>\n",
       "    </tr>\n",
       "    <tr>\n",
       "      <th>company_size</th>\n",
       "      <td>13220</td>\n",
       "      <td>8</td>\n",
       "      <td>50-99</td>\n",
       "      <td>3083</td>\n",
       "    </tr>\n",
       "    <tr>\n",
       "      <th>company_type</th>\n",
       "      <td>13018</td>\n",
       "      <td>6</td>\n",
       "      <td>Pvt Ltd</td>\n",
       "      <td>9817</td>\n",
       "    </tr>\n",
       "    <tr>\n",
       "      <th>last_new_job</th>\n",
       "      <td>18735</td>\n",
       "      <td>6</td>\n",
       "      <td>1</td>\n",
       "      <td>8040</td>\n",
       "    </tr>\n",
       "  </tbody>\n",
       "</table>\n",
       "</div>"
      ],
      "text/plain": [
       "                     count unique                      top   freq\n",
       "city                 19158    123                 city_103   4355\n",
       "gender               14650      3                     Male  13221\n",
       "relevent_experience  19158      2  Has relevent experience  13792\n",
       "enrolled_university  18772      3            no_enrollment  13817\n",
       "education_level      18698      5                 Graduate  11598\n",
       "major_discipline     16345      6                     STEM  14492\n",
       "experience           19093     22                      >20   3286\n",
       "company_size         13220      8                    50-99   3083\n",
       "company_type         13018      6                  Pvt Ltd   9817\n",
       "last_new_job         18735      6                        1   8040"
      ]
     },
     "execution_count": 119,
     "metadata": {},
     "output_type": "execute_result"
    }
   ],
   "source": [
    "data.describe(include=['object']).T"
   ]
  },
  {
   "cell_type": "markdown",
   "metadata": {},
   "source": [
    "**Observations-**\n",
    "* Most of the records are from city_103.\n",
    "* Most of the enrollees are Males.\n",
    "* Most enrollees have some relevant experience.\n",
    "* Most of the enrollees were not enrolled in a university.\n",
    "* Most of the enrollees are graduates.\n",
    "* Most of the enrollees have STEM as their major discipline.\n",
    "* Most enrollees have worked in a pvt_ltd company."
   ]
  },
  {
   "cell_type": "markdown",
   "metadata": {
    "colab_type": "text",
    "id": "kUJ_B5KxhU3D"
   },
   "source": [
    "### EDA"
   ]
  },
  {
   "cell_type": "markdown",
   "metadata": {
    "colab_type": "text",
    "id": "7Rwx-1ZuhU3D"
   },
   "source": [
    "### Univariate analysis"
   ]
  },
  {
   "cell_type": "code",
   "execution_count": 120,
   "metadata": {},
   "outputs": [],
   "source": [
    "# While doing uni-variate analysis of numerical variables we want to study their central tendency \n",
    "# and dispersion.\n",
    "# Let us write a function that will help us create boxplot and histogram for any input numerical \n",
    "# variable.\n",
    "# This function takes the numerical column as the input and returns the boxplots \n",
    "# and histograms for the variable.\n",
    "# Let us see if this help us write faster and cleaner code.\n",
    "def histogram_boxplot(feature, figsize=(15,10), bins = None):\n",
    "    \"\"\" Boxplot and histogram combined\n",
    "    feature: 1-d feature array\n",
    "    figsize: size of fig (default (9,8))\n",
    "    bins: number of bins (default None / auto)\n",
    "    \"\"\"\n",
    "    f2, (ax_box2, ax_hist2) = plt.subplots(nrows = 2, # Number of rows of the subplot grid= 2\n",
    "                                           sharex = True, # x-axis will be shared among all subplots\n",
    "                                           gridspec_kw = {\"height_ratios\": (.25, .75)}, \n",
    "                                           figsize = figsize \n",
    "                                           ) # creating the 2 subplots\n",
    "    sns.boxplot(feature, ax=ax_box2, showmeans=True, color='violet') # boxplot will be created and a star will indicate the mean value of the column\n",
    "    sns.distplot(feature, kde=F, ax=ax_hist2, bins=bins,color = 'orange') if bins else sns.distplot(feature, kde=False, ax=ax_hist2,color='tab:cyan') # For histogram\n",
    "    ax_hist2.axvline(np.mean(feature), color='purple', linestyle='--') # Add mean to the histogram\n",
    "    ax_hist2.axvline(np.median(feature), color='black', linestyle='-') # Add median to the histogram"
   ]
  },
  {
   "cell_type": "markdown",
   "metadata": {},
   "source": [
    "### Observations on city_development_index"
   ]
  },
  {
   "cell_type": "code",
   "execution_count": 121,
   "metadata": {},
   "outputs": [
    {
     "data": {
      "image/png": "[encoded data removed]",
      "text/plain": [
       "<Figure size 1080x720 with 2 Axes>"
      ]
     },
     "metadata": {},
     "output_type": "display_data"
    }
   ],
   "source": [
    "histogram_boxplot(data['city_development_index'])"
   ]
  },
  {
   "cell_type": "markdown",
   "metadata": {},
   "source": [
    "* Distribution of city_development_index is left-skewed.\n",
    "* Cities with city_development_index less than ~0.45 are outliers - such cities might be underdeveloped or tier 3 cities.\n",
    "* Let's explore it further."
   ]
  },
  {
   "cell_type": "code",
   "execution_count": 122,
   "metadata": {},
   "outputs": [
    {
     "data": {
      "text/html": [
       "<div>\n",
       "<style scoped>\n",
       "    .dataframe tbody tr th:only-of-type {\n",
       "        vertical-align: middle;\n",
       "    }\n",
       "\n",
       "    .dataframe tbody tr th {\n",
       "        vertical-align: top;\n",
       "    }\n",
       "\n",
       "    .dataframe thead th {\n",
       "        text-align: right;\n",
       "    }\n",
       "</style>\n",
       "<table border=\"1\" class=\"dataframe\">\n",
       "  <thead>\n",
       "    <tr style=\"text-align: right;\">\n",
       "      <th></th>\n",
       "      <th>city</th>\n",
       "      <th>city_development_index</th>\n",
       "      <th>gender</th>\n",
       "      <th>relevent_experience</th>\n",
       "      <th>enrolled_university</th>\n",
       "      <th>education_level</th>\n",
       "      <th>major_discipline</th>\n",
       "      <th>experience</th>\n",
       "      <th>company_size</th>\n",
       "      <th>company_type</th>\n",
       "      <th>last_new_job</th>\n",
       "      <th>training_hours</th>\n",
       "      <th>target</th>\n",
       "    </tr>\n",
       "  </thead>\n",
       "  <tbody>\n",
       "    <tr>\n",
       "      <th>1523</th>\n",
       "      <td>city_33</td>\n",
       "      <td>0.448</td>\n",
       "      <td>NaN</td>\n",
       "      <td>Has relevent experience</td>\n",
       "      <td>Part time course</td>\n",
       "      <td>Graduate</td>\n",
       "      <td>STEM</td>\n",
       "      <td>10</td>\n",
       "      <td>50-99</td>\n",
       "      <td>NGO</td>\n",
       "      <td>&gt;4</td>\n",
       "      <td>48</td>\n",
       "      <td>1.0</td>\n",
       "    </tr>\n",
       "    <tr>\n",
       "      <th>4744</th>\n",
       "      <td>city_33</td>\n",
       "      <td>0.448</td>\n",
       "      <td>NaN</td>\n",
       "      <td>No relevent experience</td>\n",
       "      <td>Full time course</td>\n",
       "      <td>Graduate</td>\n",
       "      <td>STEM</td>\n",
       "      <td>2</td>\n",
       "      <td>NaN</td>\n",
       "      <td>NaN</td>\n",
       "      <td>never</td>\n",
       "      <td>43</td>\n",
       "      <td>1.0</td>\n",
       "    </tr>\n",
       "    <tr>\n",
       "      <th>5010</th>\n",
       "      <td>city_33</td>\n",
       "      <td>0.448</td>\n",
       "      <td>Male</td>\n",
       "      <td>No relevent experience</td>\n",
       "      <td>no_enrollment</td>\n",
       "      <td>Graduate</td>\n",
       "      <td>STEM</td>\n",
       "      <td>1</td>\n",
       "      <td>NaN</td>\n",
       "      <td>NaN</td>\n",
       "      <td>never</td>\n",
       "      <td>73</td>\n",
       "      <td>1.0</td>\n",
       "    </tr>\n",
       "    <tr>\n",
       "      <th>5265</th>\n",
       "      <td>city_33</td>\n",
       "      <td>0.448</td>\n",
       "      <td>NaN</td>\n",
       "      <td>No relevent experience</td>\n",
       "      <td>NaN</td>\n",
       "      <td>High School</td>\n",
       "      <td>NaN</td>\n",
       "      <td>5</td>\n",
       "      <td>NaN</td>\n",
       "      <td>Pvt Ltd</td>\n",
       "      <td>never</td>\n",
       "      <td>86</td>\n",
       "      <td>1.0</td>\n",
       "    </tr>\n",
       "    <tr>\n",
       "      <th>5567</th>\n",
       "      <td>city_33</td>\n",
       "      <td>0.448</td>\n",
       "      <td>NaN</td>\n",
       "      <td>Has relevent experience</td>\n",
       "      <td>Part time course</td>\n",
       "      <td>Masters</td>\n",
       "      <td>STEM</td>\n",
       "      <td>6</td>\n",
       "      <td>NaN</td>\n",
       "      <td>NaN</td>\n",
       "      <td>1</td>\n",
       "      <td>18</td>\n",
       "      <td>1.0</td>\n",
       "    </tr>\n",
       "    <tr>\n",
       "      <th>6127</th>\n",
       "      <td>city_33</td>\n",
       "      <td>0.448</td>\n",
       "      <td>NaN</td>\n",
       "      <td>No relevent experience</td>\n",
       "      <td>Full time course</td>\n",
       "      <td>Graduate</td>\n",
       "      <td>STEM</td>\n",
       "      <td>4</td>\n",
       "      <td>NaN</td>\n",
       "      <td>Public Sector</td>\n",
       "      <td>4</td>\n",
       "      <td>32</td>\n",
       "      <td>1.0</td>\n",
       "    </tr>\n",
       "    <tr>\n",
       "      <th>7724</th>\n",
       "      <td>city_33</td>\n",
       "      <td>0.448</td>\n",
       "      <td>Male</td>\n",
       "      <td>Has relevent experience</td>\n",
       "      <td>no_enrollment</td>\n",
       "      <td>Graduate</td>\n",
       "      <td>STEM</td>\n",
       "      <td>7</td>\n",
       "      <td>50-99</td>\n",
       "      <td>Pvt Ltd</td>\n",
       "      <td>1</td>\n",
       "      <td>28</td>\n",
       "      <td>0.0</td>\n",
       "    </tr>\n",
       "    <tr>\n",
       "      <th>7864</th>\n",
       "      <td>city_33</td>\n",
       "      <td>0.448</td>\n",
       "      <td>Male</td>\n",
       "      <td>Has relevent experience</td>\n",
       "      <td>no_enrollment</td>\n",
       "      <td>Graduate</td>\n",
       "      <td>STEM</td>\n",
       "      <td>8</td>\n",
       "      <td>NaN</td>\n",
       "      <td>NaN</td>\n",
       "      <td>&gt;4</td>\n",
       "      <td>74</td>\n",
       "      <td>0.0</td>\n",
       "    </tr>\n",
       "    <tr>\n",
       "      <th>9134</th>\n",
       "      <td>city_33</td>\n",
       "      <td>0.448</td>\n",
       "      <td>NaN</td>\n",
       "      <td>No relevent experience</td>\n",
       "      <td>Part time course</td>\n",
       "      <td>Masters</td>\n",
       "      <td>Other</td>\n",
       "      <td>2</td>\n",
       "      <td>&lt;10</td>\n",
       "      <td>NGO</td>\n",
       "      <td>1</td>\n",
       "      <td>23</td>\n",
       "      <td>1.0</td>\n",
       "    </tr>\n",
       "    <tr>\n",
       "      <th>10401</th>\n",
       "      <td>city_33</td>\n",
       "      <td>0.448</td>\n",
       "      <td>Male</td>\n",
       "      <td>No relevent experience</td>\n",
       "      <td>no_enrollment</td>\n",
       "      <td>Graduate</td>\n",
       "      <td>STEM</td>\n",
       "      <td>5</td>\n",
       "      <td>10000+</td>\n",
       "      <td>Pvt Ltd</td>\n",
       "      <td>2</td>\n",
       "      <td>36</td>\n",
       "      <td>0.0</td>\n",
       "    </tr>\n",
       "    <tr>\n",
       "      <th>13549</th>\n",
       "      <td>city_33</td>\n",
       "      <td>0.448</td>\n",
       "      <td>NaN</td>\n",
       "      <td>Has relevent experience</td>\n",
       "      <td>no_enrollment</td>\n",
       "      <td>Graduate</td>\n",
       "      <td>STEM</td>\n",
       "      <td>8</td>\n",
       "      <td>10/49</td>\n",
       "      <td>Pvt Ltd</td>\n",
       "      <td>2</td>\n",
       "      <td>14</td>\n",
       "      <td>0.0</td>\n",
       "    </tr>\n",
       "    <tr>\n",
       "      <th>14913</th>\n",
       "      <td>city_33</td>\n",
       "      <td>0.448</td>\n",
       "      <td>Male</td>\n",
       "      <td>No relevent experience</td>\n",
       "      <td>Full time course</td>\n",
       "      <td>High School</td>\n",
       "      <td>NaN</td>\n",
       "      <td>4</td>\n",
       "      <td>NaN</td>\n",
       "      <td>NaN</td>\n",
       "      <td>never</td>\n",
       "      <td>31</td>\n",
       "      <td>0.0</td>\n",
       "    </tr>\n",
       "    <tr>\n",
       "      <th>15114</th>\n",
       "      <td>city_33</td>\n",
       "      <td>0.448</td>\n",
       "      <td>NaN</td>\n",
       "      <td>No relevent experience</td>\n",
       "      <td>Full time course</td>\n",
       "      <td>Masters</td>\n",
       "      <td>STEM</td>\n",
       "      <td>4</td>\n",
       "      <td>NaN</td>\n",
       "      <td>Pvt Ltd</td>\n",
       "      <td>never</td>\n",
       "      <td>66</td>\n",
       "      <td>1.0</td>\n",
       "    </tr>\n",
       "    <tr>\n",
       "      <th>16555</th>\n",
       "      <td>city_33</td>\n",
       "      <td>0.448</td>\n",
       "      <td>Male</td>\n",
       "      <td>Has relevent experience</td>\n",
       "      <td>no_enrollment</td>\n",
       "      <td>Graduate</td>\n",
       "      <td>STEM</td>\n",
       "      <td>4</td>\n",
       "      <td>100-500</td>\n",
       "      <td>Pvt Ltd</td>\n",
       "      <td>1</td>\n",
       "      <td>16</td>\n",
       "      <td>0.0</td>\n",
       "    </tr>\n",
       "    <tr>\n",
       "      <th>16784</th>\n",
       "      <td>city_33</td>\n",
       "      <td>0.448</td>\n",
       "      <td>NaN</td>\n",
       "      <td>No relevent experience</td>\n",
       "      <td>Full time course</td>\n",
       "      <td>Graduate</td>\n",
       "      <td>Other</td>\n",
       "      <td>2</td>\n",
       "      <td>500-999</td>\n",
       "      <td>Public Sector</td>\n",
       "      <td>2</td>\n",
       "      <td>154</td>\n",
       "      <td>1.0</td>\n",
       "    </tr>\n",
       "    <tr>\n",
       "      <th>17701</th>\n",
       "      <td>city_33</td>\n",
       "      <td>0.448</td>\n",
       "      <td>Male</td>\n",
       "      <td>No relevent experience</td>\n",
       "      <td>no_enrollment</td>\n",
       "      <td>Graduate</td>\n",
       "      <td>STEM</td>\n",
       "      <td>4</td>\n",
       "      <td>10/49</td>\n",
       "      <td>Public Sector</td>\n",
       "      <td>1</td>\n",
       "      <td>44</td>\n",
       "      <td>1.0</td>\n",
       "    </tr>\n",
       "    <tr>\n",
       "      <th>18065</th>\n",
       "      <td>city_33</td>\n",
       "      <td>0.448</td>\n",
       "      <td>NaN</td>\n",
       "      <td>No relevent experience</td>\n",
       "      <td>Full time course</td>\n",
       "      <td>Graduate</td>\n",
       "      <td>STEM</td>\n",
       "      <td>&lt;1</td>\n",
       "      <td>1000-4999</td>\n",
       "      <td>Public Sector</td>\n",
       "      <td>NaN</td>\n",
       "      <td>15</td>\n",
       "      <td>1.0</td>\n",
       "    </tr>\n",
       "  </tbody>\n",
       "</table>\n",
       "</div>"
      ],
      "text/plain": [
       "          city  city_development_index gender      relevent_experience  \\\n",
       "1523   city_33                   0.448    NaN  Has relevent experience   \n",
       "4744   city_33                   0.448    NaN   No relevent experience   \n",
       "5010   city_33                   0.448   Male   No relevent experience   \n",
       "5265   city_33                   0.448    NaN   No relevent experience   \n",
       "5567   city_33                   0.448    NaN  Has relevent experience   \n",
       "6127   city_33                   0.448    NaN   No relevent experience   \n",
       "7724   city_33                   0.448   Male  Has relevent experience   \n",
       "7864   city_33                   0.448   Male  Has relevent experience   \n",
       "9134   city_33                   0.448    NaN   No relevent experience   \n",
       "10401  city_33                   0.448   Male   No relevent experience   \n",
       "13549  city_33                   0.448    NaN  Has relevent experience   \n",
       "14913  city_33                   0.448   Male   No relevent experience   \n",
       "15114  city_33                   0.448    NaN   No relevent experience   \n",
       "16555  city_33                   0.448   Male  Has relevent experience   \n",
       "16784  city_33                   0.448    NaN   No relevent experience   \n",
       "17701  city_33                   0.448   Male   No relevent experience   \n",
       "18065  city_33                   0.448    NaN   No relevent experience   \n",
       "\n",
       "      enrolled_university education_level major_discipline experience  \\\n",
       "1523     Part time course        Graduate             STEM         10   \n",
       "4744     Full time course        Graduate             STEM          2   \n",
       "5010        no_enrollment        Graduate             STEM          1   \n",
       "5265                  NaN     High School              NaN          5   \n",
       "5567     Part time course         Masters             STEM          6   \n",
       "6127     Full time course        Graduate             STEM          4   \n",
       "7724        no_enrollment        Graduate             STEM          7   \n",
       "7864        no_enrollment        Graduate             STEM          8   \n",
       "9134     Part time course         Masters            Other          2   \n",
       "10401       no_enrollment        Graduate             STEM          5   \n",
       "13549       no_enrollment        Graduate             STEM          8   \n",
       "14913    Full time course     High School              NaN          4   \n",
       "15114    Full time course         Masters             STEM          4   \n",
       "16555       no_enrollment        Graduate             STEM          4   \n",
       "16784    Full time course        Graduate            Other          2   \n",
       "17701       no_enrollment        Graduate             STEM          4   \n",
       "18065    Full time course        Graduate             STEM         <1   \n",
       "\n",
       "      company_size   company_type last_new_job  training_hours  target  \n",
       "1523         50-99            NGO           >4              48     1.0  \n",
       "4744           NaN            NaN        never              43     1.0  \n",
       "5010           NaN            NaN        never              73     1.0  \n",
       "5265           NaN        Pvt Ltd        never              86     1.0  \n",
       "5567           NaN            NaN            1              18     1.0  \n",
       "6127           NaN  Public Sector            4              32     1.0  \n",
       "7724         50-99        Pvt Ltd            1              28     0.0  \n",
       "7864           NaN            NaN           >4              74     0.0  \n",
       "9134           <10            NGO            1              23     1.0  \n",
       "10401       10000+        Pvt Ltd            2              36     0.0  \n",
       "13549        10/49        Pvt Ltd            2              14     0.0  \n",
       "14913          NaN            NaN        never              31     0.0  \n",
       "15114          NaN        Pvt Ltd        never              66     1.0  \n",
       "16555      100-500        Pvt Ltd            1              16     0.0  \n",
       "16784      500-999  Public Sector            2             154     1.0  \n",
       "17701        10/49  Public Sector            1              44     1.0  \n",
       "18065    1000-4999  Public Sector          NaN              15     1.0  "
      ]
     },
     "execution_count": 122,
     "metadata": {},
     "output_type": "execute_result"
    }
   ],
   "source": [
    "data[data['city_development_index']<0.45]"
   ]
  },
  {
   "cell_type": "markdown",
   "metadata": {},
   "source": [
    "* All such records with a city development index less than 0.45 are from city_33."
   ]
  },
  {
   "cell_type": "markdown",
   "metadata": {},
   "source": [
    "### Observations on training_hours"
   ]
  },
  {
   "cell_type": "code",
   "execution_count": 123,
   "metadata": {},
   "outputs": [
    {
     "data": {
      "image/png": "[encoded data removed]",
      "text/plain": [
       "<Figure size 1080x720 with 2 Axes>"
      ]
     },
     "metadata": {},
     "output_type": "display_data"
    }
   ],
   "source": [
    "histogram_boxplot(data['training_hours'])"
   ]
  },
  {
   "cell_type": "markdown",
   "metadata": {},
   "source": [
    "* Distribution of training_hours is right-skewed with many outliers.\n",
    "* From the boxplot, we can see that enrollees with more than ~175hrs of training are outlliers."
   ]
  },
  {
   "cell_type": "code",
   "execution_count": 124,
   "metadata": {},
   "outputs": [],
   "source": [
    "# Function to create barplots that indicate percentage for each category.\n",
    "\n",
    "def perc_on_bar(z):\n",
    "    '''\n",
    "    plot\n",
    "    feature: categorical feature\n",
    "    the function won't work if a column is passed in hue parameter\n",
    "    '''\n",
    "\n",
    "    total = len(data[z]) # length of the column\n",
    "    plt.figure(figsize=(15,5))\n",
    "    ax = sns.countplot(data[z],palette='Paired')\n",
    "    for p in ax.patches:\n",
    "        percentage = '{:.1f}%'.format(100 * p.get_height()/total) # percentage of each class of the category\n",
    "        x = p.get_x() + p.get_width() / 2 - 0.05 # width of the plot\n",
    "        y = p.get_y() + p.get_height()           # hieght of the plot\n",
    "        \n",
    "        ax.annotate(percentage, (x, y), size = 12) # annotate the percantage \n",
    "    plt.show() # show the plot"
   ]
  },
  {
   "cell_type": "markdown",
   "metadata": {},
   "source": [
    "### Observations on gender"
   ]
  },
  {
   "cell_type": "code",
   "execution_count": 125,
   "metadata": {},
   "outputs": [
    {
     "data": {
      "image/png": "[encoded data removed]",
      "text/plain": [
       "<Figure size 1080x360 with 1 Axes>"
      ]
     },
     "metadata": {},
     "output_type": "display_data"
    }
   ],
   "source": [
    "perc_on_bar('gender')"
   ]
  },
  {
   "cell_type": "markdown",
   "metadata": {},
   "source": [
    "* 69% of the enrollees are male."
   ]
  },
  {
   "cell_type": "markdown",
   "metadata": {},
   "source": [
    "### Observations on relevant_experience"
   ]
  },
  {
   "cell_type": "code",
   "execution_count": 126,
   "metadata": {},
   "outputs": [
    {
     "data": {
      "image/png": "[encoded data removed]",
      "text/plain": [
       "<Figure size 1080x360 with 1 Axes>"
      ]
     },
     "metadata": {},
     "output_type": "display_data"
    }
   ],
   "source": [
    "perc_on_bar('relevent_experience')"
   ]
  },
  {
   "cell_type": "markdown",
   "metadata": {},
   "source": [
    "* 72% of the enrollees have some relevant experience."
   ]
  },
  {
   "cell_type": "markdown",
   "metadata": {},
   "source": [
    "### Observations on enrolled_university"
   ]
  },
  {
   "cell_type": "code",
   "execution_count": 127,
   "metadata": {},
   "outputs": [
    {
     "data": {
      "image/png": "[encoded data removed]",
      "text/plain": [
       "<Figure size 1080x360 with 1 Axes>"
      ]
     },
     "metadata": {},
     "output_type": "display_data"
    }
   ],
   "source": [
    "perc_on_bar('enrolled_university')"
   ]
  },
  {
   "cell_type": "markdown",
   "metadata": {},
   "source": [
    "* 72.1% of the enrollees had no enrollment in universities followed by 19.6% of the enrollees with full-time course."
   ]
  },
  {
   "cell_type": "markdown",
   "metadata": {},
   "source": [
    "### Observations on education_level"
   ]
  },
  {
   "cell_type": "code",
   "execution_count": 128,
   "metadata": {},
   "outputs": [
    {
     "data": {
      "image/png": "[encoded data removed]",
      "text/plain": [
       "<Figure size 1080x360 with 1 Axes>"
      ]
     },
     "metadata": {},
     "output_type": "display_data"
    }
   ],
   "source": [
    "perc_on_bar('education_level')"
   ]
  },
  {
   "cell_type": "markdown",
   "metadata": {},
   "source": [
    "* 60.5% of the enrollees are graduates, followed by 22.8% of the enrollees having Masters degree."
   ]
  },
  {
   "cell_type": "markdown",
   "metadata": {},
   "source": [
    "### Observations on major_discipline"
   ]
  },
  {
   "cell_type": "code",
   "execution_count": 129,
   "metadata": {},
   "outputs": [
    {
     "data": {
      "image/png": "[encoded data removed]",
      "text/plain": [
       "<Figure size 1080x360 with 1 Axes>"
      ]
     },
     "metadata": {},
     "output_type": "display_data"
    }
   ],
   "source": [
    "perc_on_bar('major_discipline')"
   ]
  },
  {
   "cell_type": "markdown",
   "metadata": {},
   "source": [
    "* 75.5% of the enrollees have STEM as their major discipline. STEM includes programs in science, technology, engineering, and mathematics."
   ]
  },
  {
   "cell_type": "markdown",
   "metadata": {},
   "source": [
    "### Observations on company_size"
   ]
  },
  {
   "cell_type": "code",
   "execution_count": 130,
   "metadata": {},
   "outputs": [
    {
     "data": {
      "image/png": "[encoded data removed]",
      "text/plain": [
       "<Figure size 1080x360 with 1 Axes>"
      ]
     },
     "metadata": {},
     "output_type": "display_data"
    }
   ],
   "source": [
    "perc_on_bar('company_size')"
   ]
  },
  {
   "cell_type": "markdown",
   "metadata": {},
   "source": [
    "* 16.1% of the enrollees have worked in a company with 50-99 employees, followed by 13.4% of the enrollees who have worked in a company with 100-500."
   ]
  },
  {
   "cell_type": "markdown",
   "metadata": {},
   "source": [
    "### Observations on company_type"
   ]
  },
  {
   "cell_type": "code",
   "execution_count": 131,
   "metadata": {},
   "outputs": [
    {
     "data": {
      "image/png": "[encoded data removed]",
      "text/plain": [
       "<Figure size 1080x360 with 1 Axes>"
      ]
     },
     "metadata": {},
     "output_type": "display_data"
    }
   ],
   "source": [
    "perc_on_bar('company_type')"
   ]
  },
  {
   "cell_type": "markdown",
   "metadata": {},
   "source": [
    "* 51.2% of the enrollees have worked in private companies, followed by 8.3% enrollees in startups."
   ]
  },
  {
   "cell_type": "markdown",
   "metadata": {},
   "source": [
    "### Observations on last_new_job"
   ]
  },
  {
   "cell_type": "code",
   "execution_count": 132,
   "metadata": {},
   "outputs": [
    {
     "data": {
      "image/png": "[encoded data removed]",
      "text/plain": [
       "<Figure size 1080x360 with 1 Axes>"
      ]
     },
     "metadata": {},
     "output_type": "display_data"
    }
   ],
   "source": [
    "perc_on_bar('last_new_job')"
   ]
  },
  {
   "cell_type": "markdown",
   "metadata": {},
   "source": [
    "* 42% of the enrollees have a difference of 1 year between their current and previous job followed by 17.2% of the enrollees with more than 4 years of difference.\n",
    "* Never here can mean that enrollee has never worked before(freshers) or is not working right now."
   ]
  },
  {
   "cell_type": "markdown",
   "metadata": {
    "colab_type": "text",
    "id": "beo_tDmVhU3-"
   },
   "source": [
    "## Bivariate Analysis"
   ]
  },
  {
   "cell_type": "code",
   "execution_count": 133,
   "metadata": {},
   "outputs": [
    {
     "data": {
      "image/png": "[encoded data removed]",
      "text/plain": [
       "<Figure size 720x504 with 2 Axes>"
      ]
     },
     "metadata": {},
     "output_type": "display_data"
    }
   ],
   "source": [
    "plt.figure(figsize=(10,7))\n",
    "sns.heatmap(data.corr(),annot=True,vmin=-1,vmax=1,fmt='.2g')\n",
    "plt.show()"
   ]
  },
  {
   "cell_type": "markdown",
   "metadata": {},
   "source": [
    "* There is no strong correlation either with the target or between any independent variable.\n",
    "* City development index has a negative relation with the target."
   ]
  },
  {
   "cell_type": "markdown",
   "metadata": {},
   "source": [
    "* Encoding 1 and 0 to 'yes' and 'no' respectively, for analysis."
   ]
  },
  {
   "cell_type": "code",
   "execution_count": 134,
   "metadata": {},
   "outputs": [],
   "source": [
    "data['target'].replace(1,'yes',inplace=True)\n",
    "data['target'].replace(0,'no',inplace=True)"
   ]
  },
  {
   "cell_type": "code",
   "execution_count": 135,
   "metadata": {},
   "outputs": [],
   "source": [
    "### Function to plot stacked bar charts for categorical columns\n",
    "def stacked_plot(x):\n",
    "    sns.set()\n",
    "    ## crosstab \n",
    "    tab1 = pd.crosstab(x,data['target'],margins=True).sort_values(by='yes',ascending=False)\n",
    "    print(tab1)\n",
    "    print('-'*120)\n",
    "    ## visualising the cross tab\n",
    "    tab = pd.crosstab(x,data['target'],normalize='index').sort_values(by='yes',ascending=False)\n",
    "    tab.plot(kind='bar',stacked=True,figsize=(17,7))\n",
    "    plt.legend(loc='lower left', frameon=False)\n",
    "    plt.legend(loc=\"upper left\", bbox_to_anchor=(1,1))\n",
    "    plt.show()"
   ]
  },
  {
   "cell_type": "markdown",
   "metadata": {},
   "source": [
    "### target vs city"
   ]
  },
  {
   "cell_type": "code",
   "execution_count": 136,
   "metadata": {
    "scrolled": false
   },
   "outputs": [
    {
     "name": "stdout",
     "output_type": "stream",
     "text": [
      "target       no   yes    All\n",
      "city                        \n",
      "All       14381  4777  19158\n",
      "city_21    1105  1597   2702\n",
      "city_103   3427   928   4355\n",
      "city_160    646   199    845\n",
      "city_16    1354   179   1533\n",
      "...         ...   ...    ...\n",
      "city_129      3     0      3\n",
      "city_8        4     0      4\n",
      "city_39      11     0     11\n",
      "city_111      3     0      3\n",
      "city_2        7     0      7\n",
      "\n",
      "[124 rows x 3 columns]\n",
      "------------------------------------------------------------------------------------------------------------------------\n"
     ]
    },
    {
     "data": {
      "image/png": "[encoded data removed]",
      "text/plain": [
       "<Figure size 1224x504 with 1 Axes>"
      ]
     },
     "metadata": {},
     "output_type": "display_data"
    }
   ],
   "source": [
    "stacked_plot(data['city'])"
   ]
  },
  {
   "cell_type": "markdown",
   "metadata": {},
   "source": [
    "* Cities 171,139, 155, and 42 show the highest percentage of enrollees looking for a job. \n",
    "* Cities with the highest percentage of enrollees looking for a job might be from tier 2 or tier 3 cities looking for better opportunities.\n",
    "* This column captures a clear difference between enrollees looking for a job and those who are not, it can act as an important predictor."
   ]
  },
  {
   "cell_type": "markdown",
   "metadata": {},
   "source": [
    "### target vs gender"
   ]
  },
  {
   "cell_type": "code",
   "execution_count": 137,
   "metadata": {
    "scrolled": false
   },
   "outputs": [
    {
     "name": "stdout",
     "output_type": "stream",
     "text": [
      "target     no   yes    All\n",
      "gender                    \n",
      "All     11262  3388  14650\n",
      "Male    10209  3012  13221\n",
      "Female    912   326   1238\n",
      "Other     141    50    191\n",
      "------------------------------------------------------------------------------------------------------------------------\n"
     ]
    },
    {
     "data": {
      "image/png": "[encoded data removed]",
      "text/plain": [
       "<Figure size 1224x504 with 1 Axes>"
      ]
     },
     "metadata": {},
     "output_type": "display_data"
    }
   ],
   "source": [
    "stacked_plot(data['gender'])"
   ]
  },
  {
   "cell_type": "markdown",
   "metadata": {},
   "source": [
    "* Females followed by other gender enrollees are the ones actively looking for a job change.\n",
    "* Let's add the unknown as a category (inplace of missing values) and see if there's a change in observations."
   ]
  },
  {
   "cell_type": "code",
   "execution_count": 138,
   "metadata": {},
   "outputs": [],
   "source": [
    "data['gender'] = data['gender'].replace(np.nan,'unknown')"
   ]
  },
  {
   "cell_type": "code",
   "execution_count": 139,
   "metadata": {},
   "outputs": [
    {
     "name": "stdout",
     "output_type": "stream",
     "text": [
      "target      no   yes    All\n",
      "gender                     \n",
      "All      14381  4777  19158\n",
      "Male     10209  3012  13221\n",
      "unknown   3119  1389   4508\n",
      "Female     912   326   1238\n",
      "Other      141    50    191\n",
      "------------------------------------------------------------------------------------------------------------------------\n"
     ]
    },
    {
     "data": {
      "image/png": "[encoded data removed]",
      "text/plain": [
       "<Figure size 1224x504 with 1 Axes>"
      ]
     },
     "metadata": {},
     "output_type": "display_data"
    }
   ],
   "source": [
    "stacked_plot(data['gender'])"
   ]
  },
  {
   "cell_type": "markdown",
   "metadata": {},
   "source": [
    "* 'Unknown' gender has the most percentage of enrollees looking for a job change."
   ]
  },
  {
   "cell_type": "markdown",
   "metadata": {},
   "source": [
    "### target vs relevant_experience"
   ]
  },
  {
   "cell_type": "code",
   "execution_count": 140,
   "metadata": {
    "scrolled": false
   },
   "outputs": [
    {
     "name": "stdout",
     "output_type": "stream",
     "text": [
      "target                      no   yes    All\n",
      "relevent_experience                        \n",
      "All                      14381  4777  19158\n",
      "Has relevent experience  10831  2961  13792\n",
      "No relevent experience    3550  1816   5366\n",
      "------------------------------------------------------------------------------------------------------------------------\n"
     ]
    },
    {
     "data": {
      "image/png": "[encoded data removed]",
      "text/plain": [
       "<Figure size 1224x504 with 1 Axes>"
      ]
     },
     "metadata": {},
     "output_type": "display_data"
    }
   ],
   "source": [
    "stacked_plot(data['relevent_experience'])"
   ]
  },
  {
   "cell_type": "markdown",
   "metadata": {},
   "source": [
    "* 35% of the enrollees who do not have relevant experience are the ones looking for a job change.\n",
    "* Such enrollees might be freshers looking for opportunities.\n",
    "* 20% of the enrollees who have relevant experience are also looking for a job change such enrollees after upskilling might be looking for new roles with the newly acquired skills."
   ]
  },
  {
   "cell_type": "markdown",
   "metadata": {},
   "source": [
    "### target vs enrolled_university"
   ]
  },
  {
   "cell_type": "code",
   "execution_count": 141,
   "metadata": {
    "scrolled": false
   },
   "outputs": [
    {
     "name": "stdout",
     "output_type": "stream",
     "text": [
      "target                  no   yes    All\n",
      "enrolled_university                    \n",
      "All                  14118  4654  18772\n",
      "no_enrollment        10896  2921  13817\n",
      "Full time course      2326  1431   3757\n",
      "Part time course       896   302   1198\n",
      "------------------------------------------------------------------------------------------------------------------------\n"
     ]
    },
    {
     "data": {
      "image/png": "[encoded data removed]",
      "text/plain": [
       "<Figure size 1224x504 with 1 Axes>"
      ]
     },
     "metadata": {},
     "output_type": "display_data"
    }
   ],
   "source": [
    "stacked_plot(data['enrolled_university'])"
   ]
  },
  {
   "cell_type": "markdown",
   "metadata": {},
   "source": [
    "* There's a high portion of enrollees looking for a job change across all three categories.\n",
    "* ~40% of the enrollees with full-time courses are looking for a job change.\n",
    "* ~30% of the enrollees with part-time courses are looking for a job change."
   ]
  },
  {
   "cell_type": "markdown",
   "metadata": {},
   "source": [
    "### target vs enrolled_university"
   ]
  },
  {
   "cell_type": "code",
   "execution_count": 142,
   "metadata": {
    "scrolled": false
   },
   "outputs": [
    {
     "name": "stdout",
     "output_type": "stream",
     "text": [
      "target              no   yes    All\n",
      "education_level                    \n",
      "All              14025  4673  18698\n",
      "Graduate          8353  3245  11598\n",
      "Masters           3426   935   4361\n",
      "High School       1623   394   2017\n",
      "Phd                356    58    414\n",
      "Primary School     267    41    308\n",
      "------------------------------------------------------------------------------------------------------------------------\n"
     ]
    },
    {
     "data": {
      "image/png": "[encoded data removed]",
      "text/plain": [
       "<Figure size 1224x504 with 1 Axes>"
      ]
     },
     "metadata": {},
     "output_type": "display_data"
    }
   ],
   "source": [
    "stacked_plot(data['education_level'])"
   ]
  },
  {
   "cell_type": "markdown",
   "metadata": {},
   "source": [
    "* There's a high proportion of enrollees looking for a job change across Graduates, Masters, and High Schooler categories.\n",
    "* ~30% of the graduate enrollees are looking for a job change.\n",
    "* 20% of the enrollees with a master's degree are looking for a job change."
   ]
  },
  {
   "cell_type": "markdown",
   "metadata": {},
   "source": [
    "### target vs major_discipline"
   ]
  },
  {
   "cell_type": "code",
   "execution_count": 143,
   "metadata": {
    "scrolled": false
   },
   "outputs": [
    {
     "name": "stdout",
     "output_type": "stream",
     "text": [
      "target               no   yes    All\n",
      "major_discipline                    \n",
      "All               12117  4228  16345\n",
      "STEM              10701  3791  14492\n",
      "Humanities          528   141    669\n",
      "Other               279   102    381\n",
      "Business Degree     241    86    327\n",
      "No Major            168    55    223\n",
      "Arts                200    53    253\n",
      "------------------------------------------------------------------------------------------------------------------------\n"
     ]
    },
    {
     "data": {
      "image/png": "[encoded data removed]",
      "text/plain": [
       "<Figure size 1224x504 with 1 Axes>"
      ]
     },
     "metadata": {},
     "output_type": "display_data"
    }
   ],
   "source": [
    "stacked_plot(data['major_discipline'])"
   ]
  },
  {
   "cell_type": "markdown",
   "metadata": {},
   "source": [
    "* There's a high proportion of enrollees looking for a job change across all categories."
   ]
  },
  {
   "cell_type": "markdown",
   "metadata": {},
   "source": [
    "### target vs experience"
   ]
  },
  {
   "cell_type": "code",
   "execution_count": 144,
   "metadata": {
    "scrolled": false
   },
   "outputs": [
    {
     "name": "stdout",
     "output_type": "stream",
     "text": [
      "target         no   yes    All\n",
      "experience                    \n",
      "All         14339  4754  19093\n",
      ">20          2783   503   3286\n",
      "3             876   478   1354\n",
      "4             946   457   1403\n",
      "5            1018   412   1430\n",
      "2             753   374   1127\n",
      "6             873   343   1216\n",
      "7             725   303   1028\n",
      "<1            285   237    522\n",
      "1             316   233    549\n",
      "9             767   213    980\n",
      "10            778   207    985\n",
      "8             607   195    802\n",
      "11            513   151    664\n",
      "15            572   114    686\n",
      "14            479   107    586\n",
      "12            402    92    494\n",
      "13            322    77    399\n",
      "16            436    72    508\n",
      "17            285    57    342\n",
      "19            251    53    304\n",
      "18            237    43    280\n",
      "20            115    33    148\n",
      "------------------------------------------------------------------------------------------------------------------------\n"
     ]
    },
    {
     "data": {
      "image/png": "[encoded data removed]",
      "text/plain": [
       "<Figure size 1224x504 with 1 Axes>"
      ]
     },
     "metadata": {},
     "output_type": "display_data"
    }
   ],
   "source": [
    "stacked_plot(data['experience'])"
   ]
  },
  {
   "cell_type": "markdown",
   "metadata": {},
   "source": [
    "* There's a high proportion of enrollees looking for a job change having less than 10 years of experience.\n",
    "* <1 year will the freshers who after training would want to do a job in a relevant field."
   ]
  },
  {
   "cell_type": "markdown",
   "metadata": {},
   "source": [
    "### target vs company_size"
   ]
  },
  {
   "cell_type": "code",
   "execution_count": 145,
   "metadata": {
    "scrolled": false
   },
   "outputs": [
    {
     "name": "stdout",
     "output_type": "stream",
     "text": [
      "target           no   yes    All\n",
      "company_size                    \n",
      "All           10853  2367  13220\n",
      "50-99          2538   545   3083\n",
      "100-500        2156   415   2571\n",
      "10000+         1634   385   2019\n",
      "10/49          1127   344   1471\n",
      "<10            1084   224   1308\n",
      "1000-4999      1128   200   1328\n",
      "500-999         725   152    877\n",
      "5000-9999       461   102    563\n",
      "------------------------------------------------------------------------------------------------------------------------\n"
     ]
    },
    {
     "data": {
      "image/png": "[encoded data removed]",
      "text/plain": [
       "<Figure size 1224x504 with 1 Axes>"
      ]
     },
     "metadata": {},
     "output_type": "display_data"
    }
   ],
   "source": [
    "stacked_plot(data['company_size'])"
   ]
  },
  {
   "cell_type": "markdown",
   "metadata": {},
   "source": [
    "* ~20% of the enrollees who have been in companies of different sizes are looking for a job change."
   ]
  },
  {
   "cell_type": "markdown",
   "metadata": {},
   "source": [
    "### target vs company_type"
   ]
  },
  {
   "cell_type": "code",
   "execution_count": 146,
   "metadata": {
    "scrolled": false
   },
   "outputs": [
    {
     "name": "stdout",
     "output_type": "stream",
     "text": [
      "target                  no   yes    All\n",
      "company_type                           \n",
      "All                  10625  2393  13018\n",
      "Pvt Ltd               8042  1775   9817\n",
      "Public Sector          745   210    955\n",
      "Early Stage Startup    461   142    603\n",
      "Funded Startup         861   140   1001\n",
      "NGO                    424    97    521\n",
      "Other                   92    29    121\n",
      "------------------------------------------------------------------------------------------------------------------------\n"
     ]
    },
    {
     "data": {
      "image/png": "[encoded data removed]",
      "text/plain": [
       "<Figure size 1224x504 with 1 Axes>"
      ]
     },
     "metadata": {},
     "output_type": "display_data"
    }
   ],
   "source": [
    "stacked_plot(data['company_type'])"
   ]
  },
  {
   "cell_type": "markdown",
   "metadata": {},
   "source": [
    "* Enrollees from funded startups are the ones with less interest a possible reason being their startup just got funded, and they are looking for growth there and just want to upskill by undergoing the training.\n",
    "* Across all types of companies/sectors ~20% of the enrollees are looking for a job change."
   ]
  },
  {
   "cell_type": "markdown",
   "metadata": {},
   "source": [
    "### target vs last_new_job"
   ]
  },
  {
   "cell_type": "code",
   "execution_count": 147,
   "metadata": {
    "scrolled": false
   },
   "outputs": [
    {
     "name": "stdout",
     "output_type": "stream",
     "text": [
      "target           no   yes    All\n",
      "last_new_job                    \n",
      "All           14112  4623  18735\n",
      "1              5915  2125   8040\n",
      "never          1713   739   2452\n",
      "2              2200   700   2900\n",
      ">4             2690   600   3290\n",
      "3               793   231   1024\n",
      "4               801   228   1029\n",
      "------------------------------------------------------------------------------------------------------------------------\n"
     ]
    },
    {
     "data": {
      "image/png": "[encoded data removed]",
      "text/plain": [
       "<Figure size 1224x504 with 1 Axes>"
      ]
     },
     "metadata": {},
     "output_type": "display_data"
    }
   ],
   "source": [
    "stacked_plot(data['last_new_job'])"
   ]
  },
  {
   "cell_type": "markdown",
   "metadata": {},
   "source": [
    "* Our earlier thought of 'never' representing freshers or those who are not working right now seems true as they are the ones most interested in a job change(looking for a start)."
   ]
  },
  {
   "cell_type": "code",
   "execution_count": 148,
   "metadata": {},
   "outputs": [],
   "source": [
    "### Function to plot distributions and Boxplots of enrollees\n",
    "def plot(x,target='target'):\n",
    "    fig,axs = plt.subplots(2,2,figsize=(12,10))\n",
    "    axs[0, 0].set_title('Distribution of an enrollee not looking for a job')\n",
    "    sns.distplot(data[(data[target] == 'no')][x],ax=axs[0,0],color='teal')\n",
    "    axs[0, 1].set_title('Distribution of an enrollee looking for a job')\n",
    "    sns.distplot(data[(data[target] == 'yes')][x],ax=axs[0,1],color='orange')\n",
    "    axs[1,0].set_title('Boxplot w.r.t target')\n",
    "    sns.boxplot(data[target],data[x],ax=axs[1,0],palette='gist_rainbow')\n",
    "    axs[1,1].set_title('Boxplot w.r.t target - Without outliers')\n",
    "    sns.boxplot(data[target],data[x],ax=axs[1,1],showfliers=False,palette='gist_rainbow')\n",
    "    plt.tight_layout()\n",
    "    plt.show()"
   ]
  },
  {
   "cell_type": "markdown",
   "metadata": {},
   "source": [
    "### target vs training_hours"
   ]
  },
  {
   "cell_type": "code",
   "execution_count": 149,
   "metadata": {},
   "outputs": [
    {
     "data": {
      "image/png": "[encoded data removed]",
      "text/plain": [
       "<Figure size 864x720 with 4 Axes>"
      ]
     },
     "metadata": {},
     "output_type": "display_data"
    }
   ],
   "source": [
    "plot('training_hours')"
   ]
  },
  {
   "cell_type": "markdown",
   "metadata": {},
   "source": [
    "* Training hours don't seem to have any impact on the target variable."
   ]
  },
  {
   "cell_type": "markdown",
   "metadata": {},
   "source": [
    "### target vs city_development_index"
   ]
  },
  {
   "cell_type": "code",
   "execution_count": 150,
   "metadata": {},
   "outputs": [
    {
     "data": {
      "image/png": "[encoded data removed]",
      "text/plain": [
       "<Figure size 864x720 with 4 Axes>"
      ]
     },
     "metadata": {},
     "output_type": "display_data"
    }
   ],
   "source": [
    "plot('city_development_index')"
   ]
  },
  {
   "cell_type": "markdown",
   "metadata": {},
   "source": [
    "* There's a stark difference between the enrollees looking for a job and an enrollee not looking for a job.\n",
    "* Enrollee from a city with a higher development index would be less likely to look for a change in a job as compared to the enrollee coming from a city with a lower development index.\n",
    "* Enrollees coming from cities with a low development index might be looking for better opportunities in metropolitan cities by upskilling themselves after undergoing the training."
   ]
  },
  {
   "cell_type": "markdown",
   "metadata": {},
   "source": [
    "### Feature Engineering"
   ]
  },
  {
   "cell_type": "code",
   "execution_count": 151,
   "metadata": {},
   "outputs": [
    {
     "data": {
      "text/plain": [
       "123"
      ]
     },
     "execution_count": 151,
     "metadata": {},
     "output_type": "execute_result"
    }
   ],
   "source": [
    "data['city'].nunique()"
   ]
  },
  {
   "cell_type": "markdown",
   "metadata": {},
   "source": [
    "* There are 123 unique cities in data, we can reduce the levels by grouping them into 3 major categories:\n",
    "  * Developed city - with city development index greater than 0.90\n",
    "  * Developing city - with city development index between 0.74 and 0.90\n",
    "  * Under-Developed city - with city development index between 0.4 and 0.74"
   ]
  },
  {
   "cell_type": "code",
   "execution_count": 152,
   "metadata": {},
   "outputs": [
    {
     "data": {
      "text/plain": [
       "count    19158.000000\n",
       "mean         0.828848\n",
       "std          0.123362\n",
       "min          0.448000\n",
       "25%          0.740000\n",
       "50%          0.903000\n",
       "75%          0.920000\n",
       "max          0.949000\n",
       "Name: city_development_index, dtype: float64"
      ]
     },
     "execution_count": 152,
     "metadata": {},
     "output_type": "execute_result"
    }
   ],
   "source": [
    "data['city_development_index'].describe()"
   ]
  },
  {
   "cell_type": "code",
   "execution_count": 153,
   "metadata": {},
   "outputs": [
    {
     "data": {
      "text/plain": [
       "array(['city_103', 'city_40', 'city_21', 'city_115', 'city_162',\n",
       "       'city_176', 'city_160', 'city_46', 'city_61', 'city_114',\n",
       "       'city_13', 'city_159', 'city_102', 'city_67', 'city_100',\n",
       "       'city_16', 'city_71', 'city_104', 'city_64', 'city_101', 'city_83',\n",
       "       'city_105', 'city_73', 'city_75', 'city_41', 'city_11', 'city_93',\n",
       "       'city_90', 'city_36', 'city_20', 'city_57', 'city_152', 'city_19',\n",
       "       'city_65', 'city_74', 'city_173', 'city_136', 'city_98', 'city_97',\n",
       "       'city_50', 'city_138', 'city_82', 'city_157', 'city_89',\n",
       "       'city_150', 'city_70', 'city_175', 'city_94', 'city_28', 'city_59',\n",
       "       'city_165', 'city_145', 'city_142', 'city_26', 'city_12',\n",
       "       'city_37', 'city_43', 'city_116', 'city_23', 'city_99', 'city_149',\n",
       "       'city_10', 'city_45', 'city_80', 'city_128', 'city_158',\n",
       "       'city_123', 'city_7', 'city_72', 'city_106', 'city_143', 'city_78',\n",
       "       'city_109', 'city_24', 'city_134', 'city_48', 'city_144',\n",
       "       'city_91', 'city_146', 'city_133', 'city_126', 'city_118',\n",
       "       'city_9', 'city_167', 'city_27', 'city_84', 'city_54', 'city_39',\n",
       "       'city_79', 'city_76', 'city_77', 'city_81', 'city_131', 'city_44',\n",
       "       'city_117', 'city_155', 'city_33', 'city_141', 'city_127',\n",
       "       'city_62', 'city_53', 'city_25', 'city_2', 'city_69', 'city_120',\n",
       "       'city_111', 'city_30', 'city_1', 'city_140', 'city_179', 'city_55',\n",
       "       'city_14', 'city_42', 'city_107', 'city_18', 'city_139',\n",
       "       'city_180', 'city_166', 'city_121', 'city_129', 'city_8',\n",
       "       'city_31', 'city_171'], dtype=object)"
      ]
     },
     "execution_count": 153,
     "metadata": {},
     "output_type": "execute_result"
    }
   ],
   "source": [
    "data['city'].unique()"
   ]
  },
  {
   "cell_type": "code",
   "execution_count": 154,
   "metadata": {},
   "outputs": [],
   "source": [
    "# Discretize variable into equal-sized buckets based on quantiles\n",
    "data['city'] = pd.qcut(data['city_development_index'],q = [0,0.25,0.5,1],labels=['Under_Developed','Developing','Developed'])"
   ]
  },
  {
   "cell_type": "code",
   "execution_count": 155,
   "metadata": {},
   "outputs": [
    {
     "data": {
      "text/plain": [
       "Developed          9561\n",
       "Under_Developed    4838\n",
       "Developing         4759\n",
       "Name: city, dtype: int64"
      ]
     },
     "execution_count": 155,
     "metadata": {},
     "output_type": "execute_result"
    }
   ],
   "source": [
    "data['city'].value_counts()"
   ]
  },
  {
   "cell_type": "markdown",
   "metadata": {},
   "source": [
    "* 123 unique values have been binned into 3 categories."
   ]
  },
  {
   "cell_type": "markdown",
   "metadata": {},
   "source": [
    "### Missing-Value Treatment\n",
    "\n",
    "* We will use KNN imputer to impute missing values.\n",
    "* `KNNImputer`: Each sample's missing values are imputed by looking at the n_neighbors nearest neighbors found in the training set. Default value for n_neighbors=5.\n",
    "* KNN imputer replaces missing values using the average of k nearest non-missing feature values.\n",
    "* Nearest points are found based on euclidean distance."
   ]
  },
  {
   "cell_type": "code",
   "execution_count": 156,
   "metadata": {},
   "outputs": [
    {
     "data": {
      "text/plain": [
       "city                         0\n",
       "city_development_index       0\n",
       "gender                       0\n",
       "relevent_experience          0\n",
       "enrolled_university        386\n",
       "education_level            460\n",
       "major_discipline          2813\n",
       "experience                  65\n",
       "company_size              5938\n",
       "company_type              6140\n",
       "last_new_job               423\n",
       "training_hours               0\n",
       "target                       0\n",
       "dtype: int64"
      ]
     },
     "execution_count": 156,
     "metadata": {},
     "output_type": "execute_result"
    }
   ],
   "source": [
    "data.isnull().sum()"
   ]
  },
  {
   "cell_type": "code",
   "execution_count": 157,
   "metadata": {},
   "outputs": [],
   "source": [
    "imputer = KNNImputer(n_neighbors=5)"
   ]
  },
  {
   "cell_type": "code",
   "execution_count": 158,
   "metadata": {
    "id": "empkAna-gqmQ"
   },
   "outputs": [],
   "source": [
    "reqd_col_for_impute = ['gender','enrolled_university','education_level','major_discipline','experience',\n",
    "                       'company_size','company_type','last_new_job']"
   ]
  },
  {
   "cell_type": "code",
   "execution_count": 159,
   "metadata": {
    "id": "GYvU2LDmgqmQ",
    "outputId": "1f5d9bda-fa2f-466a-ab93-a71b23a756c1"
   },
   "outputs": [
    {
     "data": {
      "text/html": [
       "<div>\n",
       "<style scoped>\n",
       "    .dataframe tbody tr th:only-of-type {\n",
       "        vertical-align: middle;\n",
       "    }\n",
       "\n",
       "    .dataframe tbody tr th {\n",
       "        vertical-align: top;\n",
       "    }\n",
       "\n",
       "    .dataframe thead th {\n",
       "        text-align: right;\n",
       "    }\n",
       "</style>\n",
       "<table border=\"1\" class=\"dataframe\">\n",
       "  <thead>\n",
       "    <tr style=\"text-align: right;\">\n",
       "      <th></th>\n",
       "      <th>gender</th>\n",
       "      <th>enrolled_university</th>\n",
       "      <th>education_level</th>\n",
       "      <th>major_discipline</th>\n",
       "      <th>experience</th>\n",
       "      <th>company_size</th>\n",
       "      <th>company_type</th>\n",
       "      <th>last_new_job</th>\n",
       "    </tr>\n",
       "  </thead>\n",
       "  <tbody>\n",
       "    <tr>\n",
       "      <th>0</th>\n",
       "      <td>Male</td>\n",
       "      <td>no_enrollment</td>\n",
       "      <td>Graduate</td>\n",
       "      <td>STEM</td>\n",
       "      <td>&gt;20</td>\n",
       "      <td>NaN</td>\n",
       "      <td>NaN</td>\n",
       "      <td>1</td>\n",
       "    </tr>\n",
       "    <tr>\n",
       "      <th>1</th>\n",
       "      <td>Male</td>\n",
       "      <td>no_enrollment</td>\n",
       "      <td>Graduate</td>\n",
       "      <td>STEM</td>\n",
       "      <td>15</td>\n",
       "      <td>50-99</td>\n",
       "      <td>Pvt Ltd</td>\n",
       "      <td>&gt;4</td>\n",
       "    </tr>\n",
       "    <tr>\n",
       "      <th>2</th>\n",
       "      <td>unknown</td>\n",
       "      <td>Full time course</td>\n",
       "      <td>Graduate</td>\n",
       "      <td>STEM</td>\n",
       "      <td>5</td>\n",
       "      <td>NaN</td>\n",
       "      <td>NaN</td>\n",
       "      <td>never</td>\n",
       "    </tr>\n",
       "    <tr>\n",
       "      <th>3</th>\n",
       "      <td>unknown</td>\n",
       "      <td>NaN</td>\n",
       "      <td>Graduate</td>\n",
       "      <td>Business Degree</td>\n",
       "      <td>&lt;1</td>\n",
       "      <td>NaN</td>\n",
       "      <td>Pvt Ltd</td>\n",
       "      <td>never</td>\n",
       "    </tr>\n",
       "    <tr>\n",
       "      <th>4</th>\n",
       "      <td>Male</td>\n",
       "      <td>no_enrollment</td>\n",
       "      <td>Masters</td>\n",
       "      <td>STEM</td>\n",
       "      <td>&gt;20</td>\n",
       "      <td>50-99</td>\n",
       "      <td>Funded Startup</td>\n",
       "      <td>4</td>\n",
       "    </tr>\n",
       "  </tbody>\n",
       "</table>\n",
       "</div>"
      ],
      "text/plain": [
       "    gender enrolled_university education_level major_discipline experience  \\\n",
       "0     Male       no_enrollment        Graduate             STEM        >20   \n",
       "1     Male       no_enrollment        Graduate             STEM         15   \n",
       "2  unknown    Full time course        Graduate             STEM          5   \n",
       "3  unknown                 NaN        Graduate  Business Degree         <1   \n",
       "4     Male       no_enrollment         Masters             STEM        >20   \n",
       "\n",
       "  company_size    company_type last_new_job  \n",
       "0          NaN             NaN            1  \n",
       "1        50-99         Pvt Ltd           >4  \n",
       "2          NaN             NaN        never  \n",
       "3          NaN         Pvt Ltd        never  \n",
       "4        50-99  Funded Startup            4  "
      ]
     },
     "execution_count": 159,
     "metadata": {},
     "output_type": "execute_result"
    }
   ],
   "source": [
    "data[reqd_col_for_impute].head()"
   ]
  },
  {
   "cell_type": "code",
   "execution_count": 160,
   "metadata": {},
   "outputs": [],
   "source": [
    "data1=data.copy()"
   ]
  },
  {
   "cell_type": "code",
   "execution_count": 161,
   "metadata": {},
   "outputs": [],
   "source": [
    "# we need to pass numerical values for each categorical column for KNN imputation so we will label encode them\n",
    "gender = {'Male':0,'Female':1,'Other':2}\n",
    "data1['gender'] = data1['gender'].map(gender)\n",
    "\n",
    "enrolled_university = {'no_enrollment':0,'Full time course':1,'Part time course': 2}\n",
    "data1['enrolled_university'] = data1['enrolled_university'].map(enrolled_university)\n",
    "\n",
    "education_level= {'Graduate':0, 'Masters':1,'High School':2,'Phd':3, 'Primary School':4}  \n",
    "data1['education_level'] = data1['education_level'].map(education_level)\n",
    "\n",
    "major_discipline = {'STEM':0, 'Business Degree':1,'Arts':2,'Humanities':3,'No Major':4,'Other':5}\n",
    "data1['major_discipline'] = data1['major_discipline'].map(major_discipline)\n",
    "\n",
    "experience = {'<1':0,'1':1,'2':2 ,'3':3,'4':4,'5':5,'6':6,'7':7,'8':8,'9':9,'10':10,'11':11,'12':12,'13':13 ,'14':14 ,\n",
    "              '15':15,'16':16,'17':17,'18':18,'19':19,'20':20,'>20':21} \n",
    "data1['experience'] = data1['experience'].map(experience)\n",
    "\n",
    "company_type = {'Pvt Ltd':0,'Funded Startup':1,'Early Stage Startup':2,'Other':3,'Public Sector':4 ,'NGO':5} \n",
    "data1['company_type'] = data1['company_type'].map(company_type)\n",
    "\n",
    "company_size ={'<10':0,'10/49':1,'100-500':2,'1000-4999':3,'10000+':4,'50-99':5,'500-999':6,'5000-9999':7}\n",
    "data1['company_size'] = data1['company_size'].map(company_size)\n",
    "\n",
    "last_new_job = {'never':0,'1':1,'2':2,'3':3,'4':4,'>4':5}\n",
    "data1['last_new_job'] = data1['last_new_job'].map(last_new_job)"
   ]
  },
  {
   "cell_type": "code",
   "execution_count": 162,
   "metadata": {},
   "outputs": [
    {
     "data": {
      "text/html": [
       "<div>\n",
       "<style scoped>\n",
       "    .dataframe tbody tr th:only-of-type {\n",
       "        vertical-align: middle;\n",
       "    }\n",
       "\n",
       "    .dataframe tbody tr th {\n",
       "        vertical-align: top;\n",
       "    }\n",
       "\n",
       "    .dataframe thead th {\n",
       "        text-align: right;\n",
       "    }\n",
       "</style>\n",
       "<table border=\"1\" class=\"dataframe\">\n",
       "  <thead>\n",
       "    <tr style=\"text-align: right;\">\n",
       "      <th></th>\n",
       "      <th>city</th>\n",
       "      <th>city_development_index</th>\n",
       "      <th>gender</th>\n",
       "      <th>relevent_experience</th>\n",
       "      <th>enrolled_university</th>\n",
       "      <th>education_level</th>\n",
       "      <th>major_discipline</th>\n",
       "      <th>experience</th>\n",
       "      <th>company_size</th>\n",
       "      <th>company_type</th>\n",
       "      <th>last_new_job</th>\n",
       "      <th>training_hours</th>\n",
       "      <th>target</th>\n",
       "    </tr>\n",
       "  </thead>\n",
       "  <tbody>\n",
       "    <tr>\n",
       "      <th>0</th>\n",
       "      <td>Developed</td>\n",
       "      <td>0.920</td>\n",
       "      <td>0.0</td>\n",
       "      <td>Has relevent experience</td>\n",
       "      <td>0.0</td>\n",
       "      <td>0.0</td>\n",
       "      <td>0.0</td>\n",
       "      <td>21.0</td>\n",
       "      <td>NaN</td>\n",
       "      <td>NaN</td>\n",
       "      <td>1.0</td>\n",
       "      <td>36</td>\n",
       "      <td>yes</td>\n",
       "    </tr>\n",
       "    <tr>\n",
       "      <th>1</th>\n",
       "      <td>Developing</td>\n",
       "      <td>0.776</td>\n",
       "      <td>0.0</td>\n",
       "      <td>No relevent experience</td>\n",
       "      <td>0.0</td>\n",
       "      <td>0.0</td>\n",
       "      <td>0.0</td>\n",
       "      <td>15.0</td>\n",
       "      <td>5.0</td>\n",
       "      <td>0.0</td>\n",
       "      <td>5.0</td>\n",
       "      <td>47</td>\n",
       "      <td>no</td>\n",
       "    </tr>\n",
       "    <tr>\n",
       "      <th>2</th>\n",
       "      <td>Under_Developed</td>\n",
       "      <td>0.624</td>\n",
       "      <td>NaN</td>\n",
       "      <td>No relevent experience</td>\n",
       "      <td>1.0</td>\n",
       "      <td>0.0</td>\n",
       "      <td>0.0</td>\n",
       "      <td>5.0</td>\n",
       "      <td>NaN</td>\n",
       "      <td>NaN</td>\n",
       "      <td>0.0</td>\n",
       "      <td>83</td>\n",
       "      <td>no</td>\n",
       "    </tr>\n",
       "    <tr>\n",
       "      <th>3</th>\n",
       "      <td>Developing</td>\n",
       "      <td>0.789</td>\n",
       "      <td>NaN</td>\n",
       "      <td>No relevent experience</td>\n",
       "      <td>NaN</td>\n",
       "      <td>0.0</td>\n",
       "      <td>1.0</td>\n",
       "      <td>0.0</td>\n",
       "      <td>NaN</td>\n",
       "      <td>0.0</td>\n",
       "      <td>0.0</td>\n",
       "      <td>52</td>\n",
       "      <td>yes</td>\n",
       "    </tr>\n",
       "    <tr>\n",
       "      <th>4</th>\n",
       "      <td>Developing</td>\n",
       "      <td>0.767</td>\n",
       "      <td>0.0</td>\n",
       "      <td>Has relevent experience</td>\n",
       "      <td>0.0</td>\n",
       "      <td>1.0</td>\n",
       "      <td>0.0</td>\n",
       "      <td>21.0</td>\n",
       "      <td>5.0</td>\n",
       "      <td>1.0</td>\n",
       "      <td>4.0</td>\n",
       "      <td>8</td>\n",
       "      <td>no</td>\n",
       "    </tr>\n",
       "  </tbody>\n",
       "</table>\n",
       "</div>"
      ],
      "text/plain": [
       "              city  city_development_index  gender      relevent_experience  \\\n",
       "0        Developed                   0.920     0.0  Has relevent experience   \n",
       "1       Developing                   0.776     0.0   No relevent experience   \n",
       "2  Under_Developed                   0.624     NaN   No relevent experience   \n",
       "3       Developing                   0.789     NaN   No relevent experience   \n",
       "4       Developing                   0.767     0.0  Has relevent experience   \n",
       "\n",
       "   enrolled_university  education_level  major_discipline  experience  \\\n",
       "0                  0.0              0.0               0.0        21.0   \n",
       "1                  0.0              0.0               0.0        15.0   \n",
       "2                  1.0              0.0               0.0         5.0   \n",
       "3                  NaN              0.0               1.0         0.0   \n",
       "4                  0.0              1.0               0.0        21.0   \n",
       "\n",
       "   company_size  company_type  last_new_job  training_hours target  \n",
       "0           NaN           NaN           1.0              36    yes  \n",
       "1           5.0           0.0           5.0              47     no  \n",
       "2           NaN           NaN           0.0              83     no  \n",
       "3           NaN           0.0           0.0              52    yes  \n",
       "4           5.0           1.0           4.0               8     no  "
      ]
     },
     "execution_count": 162,
     "metadata": {},
     "output_type": "execute_result"
    }
   ],
   "source": [
    "data1.head()"
   ]
  },
  {
   "cell_type": "markdown",
   "metadata": {},
   "source": [
    "* Values have been encoded."
   ]
  },
  {
   "cell_type": "markdown",
   "metadata": {
    "id": "0L-oAMItxLP-"
   },
   "source": [
    "### Split Data"
   ]
  },
  {
   "cell_type": "code",
   "execution_count": 163,
   "metadata": {},
   "outputs": [],
   "source": [
    "X = data1.drop(['target'],axis=1)\n",
    "y = data1['target'].apply(lambda x : 1 if x=='yes' else 0)"
   ]
  },
  {
   "cell_type": "code",
   "execution_count": 164,
   "metadata": {
    "colab": {
     "base_uri": "https://localhost:8080/",
     "height": 34
    },
    "id": "JqVHLEHVRRKK",
    "outputId": "c05575bb-cda5-4b49-d6dd-3f6c8cb0678e"
   },
   "outputs": [
    {
     "name": "stdout",
     "output_type": "stream",
     "text": [
      "(13410, 12) (5748, 12)\n"
     ]
    }
   ],
   "source": [
    "# Splitting data into training and test set:\n",
    "X_train, X_test, y_train, y_test = train_test_split(X, y, test_size=0.3, random_state=7,stratify=y)\n",
    "print(X_train.shape, X_test.shape)"
   ]
  },
  {
   "cell_type": "markdown",
   "metadata": {},
   "source": [
    "**Imputing Missing Values**"
   ]
  },
  {
   "cell_type": "code",
   "execution_count": 165,
   "metadata": {},
   "outputs": [],
   "source": [
    "#Fit and transform the train data\n",
    "X_train[reqd_col_for_impute]=imputer.fit_transform(X_train[reqd_col_for_impute])\n",
    "\n",
    "#Transform the test data \n",
    "X_test[reqd_col_for_impute]=imputer.transform(X_test[reqd_col_for_impute])"
   ]
  },
  {
   "cell_type": "code",
   "execution_count": 166,
   "metadata": {},
   "outputs": [
    {
     "name": "stdout",
     "output_type": "stream",
     "text": [
      "city                      0\n",
      "city_development_index    0\n",
      "gender                    0\n",
      "relevent_experience       0\n",
      "enrolled_university       0\n",
      "education_level           0\n",
      "major_discipline          0\n",
      "experience                0\n",
      "company_size              0\n",
      "company_type              0\n",
      "last_new_job              0\n",
      "training_hours            0\n",
      "dtype: int64\n",
      "------------------------------\n",
      "city                      0\n",
      "city_development_index    0\n",
      "gender                    0\n",
      "relevent_experience       0\n",
      "enrolled_university       0\n",
      "education_level           0\n",
      "major_discipline          0\n",
      "experience                0\n",
      "company_size              0\n",
      "company_type              0\n",
      "last_new_job              0\n",
      "training_hours            0\n",
      "dtype: int64\n"
     ]
    }
   ],
   "source": [
    "#Checking that no column has missing values in train or test sets\n",
    "print(X_train.isna().sum())\n",
    "print('-'*30)\n",
    "print(X_test.isna().sum())"
   ]
  },
  {
   "cell_type": "markdown",
   "metadata": {},
   "source": [
    "* All missing values have been treated.\n",
    "* Let's inverse map the encoded values."
   ]
  },
  {
   "cell_type": "code",
   "execution_count": 167,
   "metadata": {},
   "outputs": [],
   "source": [
    "## Function to inverse the encoding\n",
    "def inverse_mapping(x,y):\n",
    "    inv_dict = {v: k for k, v in x.items()}\n",
    "    X_train[y] = np.round(X_train[y]).map(inv_dict).astype('category')\n",
    "    X_test[y] = np.round(X_test[y]).map(inv_dict).astype('category')"
   ]
  },
  {
   "cell_type": "code",
   "execution_count": 168,
   "metadata": {},
   "outputs": [],
   "source": [
    "inverse_mapping(gender,'gender')\n",
    "inverse_mapping(enrolled_university,'enrolled_university')\n",
    "inverse_mapping(education_level,'education_level')\n",
    "inverse_mapping(major_discipline,'major_discipline')\n",
    "inverse_mapping(experience,'experience')\n",
    "inverse_mapping(company_size,'company_size')\n",
    "inverse_mapping(company_type,'company_type')\n",
    "inverse_mapping(last_new_job,'last_new_job')"
   ]
  },
  {
   "cell_type": "markdown",
   "metadata": {},
   "source": [
    "* Checking inverse mapped values/categories."
   ]
  },
  {
   "cell_type": "code",
   "execution_count": 169,
   "metadata": {},
   "outputs": [
    {
     "name": "stdout",
     "output_type": "stream",
     "text": [
      "Developed          6654\n",
      "Under_Developed    3379\n",
      "Developing         3377\n",
      "Name: city, dtype: int64\n",
      "******************************\n",
      "Male      12235\n",
      "Female     1048\n",
      "Other       127\n",
      "Name: gender, dtype: int64\n",
      "******************************\n",
      "Has relevent experience    9671\n",
      "No relevent experience     3739\n",
      "Name: relevent_experience, dtype: int64\n",
      "******************************\n",
      "no_enrollment       9838\n",
      "Full time course    2737\n",
      "Part time course     835\n",
      "Name: enrolled_university, dtype: int64\n",
      "******************************\n",
      "Graduate          8199\n",
      "Masters           3229\n",
      "High School       1467\n",
      "Phd                308\n",
      "Primary School     207\n",
      "Name: education_level, dtype: int64\n",
      "******************************\n",
      "STEM               11384\n",
      "Business Degree      814\n",
      "Humanities           476\n",
      "Arts                 323\n",
      "Other                257\n",
      "No Major             156\n",
      "Name: major_discipline, dtype: int64\n",
      "******************************\n",
      ">20    2287\n",
      "4      1008\n",
      "5       995\n",
      "3       963\n",
      "6       852\n",
      "2       779\n",
      "7       728\n",
      "9       685\n",
      "10      675\n",
      "8       532\n",
      "15      485\n",
      "11      470\n",
      "14      423\n",
      "16      378\n",
      "1       369\n",
      "<1      368\n",
      "12      349\n",
      "13      292\n",
      "17      250\n",
      "19      217\n",
      "18      196\n",
      "20      109\n",
      "Name: experience, dtype: int64\n",
      "******************************\n",
      "100-500      2731\n",
      "10000+       2583\n",
      "1000-4999    2571\n",
      "50-99        2402\n",
      "10/49        1205\n",
      "<10           924\n",
      "500-999       597\n",
      "5000-9999     397\n",
      "Name: company_size, dtype: int64\n",
      "******************************\n",
      "Pvt Ltd                8648\n",
      "Funded Startup         2504\n",
      "Early Stage Startup    1000\n",
      "Public Sector           680\n",
      "NGO                     365\n",
      "Other                   213\n",
      "Name: company_type, dtype: int64\n",
      "******************************\n",
      "1        5770\n",
      ">4       2332\n",
      "2        2090\n",
      "never    1756\n",
      "4         734\n",
      "3         728\n",
      "Name: last_new_job, dtype: int64\n",
      "******************************\n"
     ]
    }
   ],
   "source": [
    "cols = X_train.select_dtypes(include=['object','category'])\n",
    "for i in cols.columns:\n",
    "    print(X_train[i].value_counts())\n",
    "    print('*'*30)"
   ]
  },
  {
   "cell_type": "code",
   "execution_count": 170,
   "metadata": {},
   "outputs": [
    {
     "name": "stdout",
     "output_type": "stream",
     "text": [
      "Developed          6654\n",
      "Under_Developed    3379\n",
      "Developing         3377\n",
      "Name: city, dtype: int64\n",
      "******************************\n",
      "Male      12235\n",
      "Female     1048\n",
      "Other       127\n",
      "Name: gender, dtype: int64\n",
      "******************************\n",
      "Has relevent experience    9671\n",
      "No relevent experience     3739\n",
      "Name: relevent_experience, dtype: int64\n",
      "******************************\n",
      "no_enrollment       9838\n",
      "Full time course    2737\n",
      "Part time course     835\n",
      "Name: enrolled_university, dtype: int64\n",
      "******************************\n",
      "Graduate          8199\n",
      "Masters           3229\n",
      "High School       1467\n",
      "Phd                308\n",
      "Primary School     207\n",
      "Name: education_level, dtype: int64\n",
      "******************************\n",
      "STEM               11384\n",
      "Business Degree      814\n",
      "Humanities           476\n",
      "Arts                 323\n",
      "Other                257\n",
      "No Major             156\n",
      "Name: major_discipline, dtype: int64\n",
      "******************************\n",
      ">20    2287\n",
      "4      1008\n",
      "5       995\n",
      "3       963\n",
      "6       852\n",
      "2       779\n",
      "7       728\n",
      "9       685\n",
      "10      675\n",
      "8       532\n",
      "15      485\n",
      "11      470\n",
      "14      423\n",
      "16      378\n",
      "1       369\n",
      "<1      368\n",
      "12      349\n",
      "13      292\n",
      "17      250\n",
      "19      217\n",
      "18      196\n",
      "20      109\n",
      "Name: experience, dtype: int64\n",
      "******************************\n",
      "100-500      2731\n",
      "10000+       2583\n",
      "1000-4999    2571\n",
      "50-99        2402\n",
      "10/49        1205\n",
      "<10           924\n",
      "500-999       597\n",
      "5000-9999     397\n",
      "Name: company_size, dtype: int64\n",
      "******************************\n",
      "Pvt Ltd                8648\n",
      "Funded Startup         2504\n",
      "Early Stage Startup    1000\n",
      "Public Sector           680\n",
      "NGO                     365\n",
      "Other                   213\n",
      "Name: company_type, dtype: int64\n",
      "******************************\n",
      "1        5770\n",
      ">4       2332\n",
      "2        2090\n",
      "never    1756\n",
      "4         734\n",
      "3         728\n",
      "Name: last_new_job, dtype: int64\n",
      "******************************\n"
     ]
    }
   ],
   "source": [
    "cols = X_test.select_dtypes(include=['object','category'])\n",
    "for i in cols.columns:\n",
    "    print(X_train[i].value_counts())\n",
    "    print('*'*30)"
   ]
  },
  {
   "cell_type": "markdown",
   "metadata": {},
   "source": [
    "* Inverse mapping returned original labels."
   ]
  },
  {
   "cell_type": "markdown",
   "metadata": {},
   "source": [
    "### Encoding categorical varaibles"
   ]
  },
  {
   "cell_type": "code",
   "execution_count": 171,
   "metadata": {},
   "outputs": [
    {
     "name": "stdout",
     "output_type": "stream",
     "text": [
      "(13410, 56) (5748, 56)\n"
     ]
    }
   ],
   "source": [
    "X_train=pd.get_dummies(X_train,drop_first=True)\n",
    "X_test=pd.get_dummies(X_test,drop_first=True)\n",
    "print(X_train.shape, X_test.shape)"
   ]
  },
  {
   "cell_type": "markdown",
   "metadata": {},
   "source": [
    "* After encoding there are 56 columns."
   ]
  },
  {
   "cell_type": "markdown",
   "metadata": {},
   "source": [
    "## Building the model"
   ]
  },
  {
   "cell_type": "markdown",
   "metadata": {},
   "source": [
    "### Model evaluation criterion:\n",
    "\n",
    "#### Model can make wrong predictions as:\n",
    "1. Predicting an enrollee is looking for a job change but in reality, the enrollee is not looking for a change - Loss of resources\n",
    "2. Predicting an enrollee is not looking for a job change but the enrollee is looking for a job change  - Loss of opportunity\n",
    "\n",
    "#### Which case is more important? \n",
    "* Predicting an enrollee is not looking for a job change but the enrollee is looking for a job change i.e. losing on a potential candidate as the candidate will not be targeted by the HR team when he should be targeted.\n",
    "\n",
    "#### How to reduce this loss i.e need to reduce False Negatives?\n",
    "* Company would want Recall to be maximized, greater the Recall lesser the chances of false negatives."
   ]
  },
  {
   "cell_type": "code",
   "execution_count": 172,
   "metadata": {},
   "outputs": [],
   "source": [
    "##  Function to calculate different metric scores of the model - Accuracy, Recall and Precision\n",
    "def get_metrics_score(model,train,test,train_y,test_y,flag=True):\n",
    "    '''\n",
    "    model : classifier to predict values of X\n",
    "\n",
    "    '''\n",
    "    # defining an empty list to store train and test results\n",
    "    score_list=[] \n",
    "    \n",
    "    pred_train = model.predict(train)\n",
    "    pred_test = model.predict(test)\n",
    "    \n",
    "    train_acc = model.score(train,train_y)\n",
    "    test_acc = model.score(test,test_y)\n",
    "    \n",
    "    train_recall = metrics.recall_score(train_y,pred_train)\n",
    "    test_recall = metrics.recall_score(test_y,pred_test)\n",
    "    \n",
    "    train_precision = metrics.precision_score(train_y,pred_train)\n",
    "    test_precision = metrics.precision_score(test_y,pred_test)\n",
    "    \n",
    "    score_list.extend((train_acc,test_acc,train_recall,test_recall,train_precision,test_precision))\n",
    "        \n",
    "    # If the flag is set to True then only the following print statements will be dispayed. The default value is set to True.\n",
    "    if flag == True: \n",
    "        print(\"Accuracy on training set : \",model.score(train,train_y))\n",
    "        print(\"Accuracy on test set : \",model.score(test,test_y))\n",
    "        print(\"Recall on training set : \",metrics.recall_score(train_y,pred_train))\n",
    "        print(\"Recall on test set : \",metrics.recall_score(test_y,pred_test))\n",
    "        print(\"Precision on training set : \",metrics.precision_score(train_y,pred_train))\n",
    "        print(\"Precision on test set : \",metrics.precision_score(test_y,pred_test))\n",
    "    \n",
    "    return score_list # returning the list with train and test scores"
   ]
  },
  {
   "cell_type": "code",
   "execution_count": 173,
   "metadata": {},
   "outputs": [],
   "source": [
    "def make_confusion_matrix(model,y_actual,labels=[1, 0]):\n",
    "    '''\n",
    "    model : classifier to predict values of X\n",
    "    y_actual : ground truth  \n",
    "    \n",
    "    '''\n",
    "    y_predict = model.predict(X_test)\n",
    "    cm=metrics.confusion_matrix( y_actual, y_predict, labels=[0, 1])\n",
    "    df_cm = pd.DataFrame(cm, index = [i for i in [\"Actual - No\",\"Actual - Yes\"]],\n",
    "                  columns = [i for i in ['Predicted - No','Predicted - Yes']])\n",
    "    group_counts = [\"{0:0.0f}\".format(value) for value in\n",
    "                cm.flatten()]\n",
    "    group_percentages = [\"{0:.2%}\".format(value) for value in\n",
    "                         cm.flatten()/np.sum(cm)]\n",
    "    labels = [f\"{v1}\\n{v2}\" for v1, v2 in\n",
    "              zip(group_counts,group_percentages)]\n",
    "    labels = np.asarray(labels).reshape(2,2)\n",
    "    plt.figure(figsize = (10,7))\n",
    "    sns.heatmap(df_cm, annot=labels,fmt='')\n",
    "    plt.ylabel('True label')\n",
    "    plt.xlabel('Predicted label')"
   ]
  },
  {
   "cell_type": "markdown",
   "metadata": {},
   "source": [
    "### Logistic Regression "
   ]
  },
  {
   "cell_type": "code",
   "execution_count": 175,
   "metadata": {
    "scrolled": true
   },
   "outputs": [
    {
     "data": {
      "text/plain": [
       "LogisticRegression(random_state=1)"
      ]
     },
     "execution_count": 175,
     "metadata": {},
     "output_type": "execute_result"
    }
   ],
   "source": [
    "lr = LogisticRegression(random_state=1)\n",
    "lr.fit(X_train,y_train)"
   ]
  },
  {
   "cell_type": "code",
   "execution_count": 176,
   "metadata": {},
   "outputs": [
    {
     "name": "stdout",
     "output_type": "stream",
     "text": [
      "Accuracy on training set :  0.7665920954511558\n",
      "Accuracy on test set :  0.7609603340292276\n",
      "Recall on training set :  0.26465311004784686\n",
      "Recall on test set :  0.25889741800418703\n",
      "Precision on training set :  0.5687660668380463\n",
      "Precision on test set :  0.5431918008784773\n"
     ]
    },
    {
     "data": {
      "image/png": "[encoded data removed]",
      "text/plain": [
       "<Figure size 720x504 with 2 Axes>"
      ]
     },
     "metadata": {},
     "output_type": "display_data"
    }
   ],
   "source": [
    "#Calculating different metrics\n",
    "scores_LR = get_metrics_score(lr,X_train,X_test,y_train,y_test)\n",
    "\n",
    "# creating confusion matrix\n",
    "make_confusion_matrix(lr,y_test)"
   ]
  },
  {
   "cell_type": "markdown",
   "metadata": {},
   "source": [
    "**Let's evaluate the model performance by using KFold and cross_val_score**\n",
    "\n",
    "- `K-Folds cross-validator` provides dataset indices to split data into train/validation sets. Split dataset into k consecutive stratified folds (without shuffling by default). Each fold is then used once as validation while the k - 1 remaining folds form the training set."
   ]
  },
  {
   "cell_type": "code",
   "execution_count": 177,
   "metadata": {},
   "outputs": [
    {
     "data": {
      "image/png": "[encoded data removed]",
      "text/plain": [
       "<Figure size 432x288 with 1 Axes>"
      ]
     },
     "metadata": {},
     "output_type": "display_data"
    }
   ],
   "source": [
    "scoring='recall'\n",
    "kfold=StratifiedKFold(n_splits=5,shuffle=True,random_state=1)     #Setting number of splits equal to 5\n",
    "cv_result_bfr=cross_val_score(estimator=lr, X=X_train, y=y_train, scoring=scoring, cv=kfold)\n",
    "#Plotting boxplots for CV scores of model defined above\n",
    "plt.boxplot(cv_result_bfr)\n",
    "plt.show()"
   ]
  },
  {
   "cell_type": "code",
   "execution_count": 178,
   "metadata": {},
   "outputs": [
    {
     "data": {
      "text/plain": [
       "array([0.26197605, 0.28998505, 0.26457399, 0.26457399, 0.2690583 ])"
      ]
     },
     "execution_count": 178,
     "metadata": {},
     "output_type": "execute_result"
    }
   ],
   "source": [
    "cv_result_bfr"
   ]
  },
  {
   "cell_type": "markdown",
   "metadata": {},
   "source": [
    "* Performance on training set varies between 0.25 to 0.29 recall.\n",
    "* Let's check the performance on test data."
   ]
  },
  {
   "cell_type": "code",
   "execution_count": 179,
   "metadata": {},
   "outputs": [
    {
     "name": "stdout",
     "output_type": "stream",
     "text": [
      "Accuracy on training set :  0.7665920954511558\n",
      "Accuracy on test set :  0.7609603340292276\n",
      "Recall on training set :  0.26465311004784686\n",
      "Recall on test set :  0.25889741800418703\n",
      "Precision on training set :  0.5687660668380463\n",
      "Precision on test set :  0.5431918008784773\n"
     ]
    },
    {
     "data": {
      "image/png": "[encoded data removed]",
      "text/plain": [
       "<Figure size 720x504 with 2 Axes>"
      ]
     },
     "metadata": {},
     "output_type": "display_data"
    }
   ],
   "source": [
    "#Calculating different metrics\n",
    "scores_LR = get_metrics_score(lr,X_train,X_test,y_train,y_test)\n",
    "\n",
    "# creating confusion matrix\n",
    "make_confusion_matrix(lr,y_test)"
   ]
  },
  {
   "cell_type": "markdown",
   "metadata": {},
   "source": [
    "* Logistic Regression has given a generalized performance on training and test set.\n",
    "* Recall is very low, we can try oversampling (increase training data) to see if the model performance can be improved."
   ]
  },
  {
   "cell_type": "markdown",
   "metadata": {},
   "source": [
    "### Oversampling train data using SMOTE"
   ]
  },
  {
   "cell_type": "code",
   "execution_count": 182,
   "metadata": {},
   "outputs": [],
   "source": [
    "from imblearn.over_sampling import SMOTE"
   ]
  },
  {
   "cell_type": "code",
   "execution_count": null,
   "metadata": {},
   "outputs": [],
   "source": [
    "X_train"
   ]
  },
  {
   "cell_type": "code",
   "execution_count": 183,
   "metadata": {},
   "outputs": [
    {
     "name": "stdout",
     "output_type": "stream",
     "text": [
      "Before UpSampling, counts of label 'Yes': 3344\n",
      "Before UpSampling, counts of label 'No': 10066 \n",
      "\n"
     ]
    }
   ],
   "source": [
    "print(\"Before UpSampling, counts of label 'Yes': {}\".format(sum(y_train==1)))\n",
    "print(\"Before UpSampling, counts of label 'No': {} \\n\".format(sum(y_train==0)))\n",
    "\n",
    "sm = SMOTE(sampling_strategy = 1 ,k_neighbors = 5, random_state=1)   #Synthetic Minority Over Sampling Technique"
   ]
  },
  {
   "cell_type": "code",
   "execution_count": 184,
   "metadata": {},
   "outputs": [
    {
     "name": "stdout",
     "output_type": "stream",
     "text": [
      "After UpSampling, counts of label 'Yes': 10066\n",
      "After UpSampling, counts of label 'No': 10066 \n",
      "\n",
      "After UpSampling, the shape of train_X: (20132, 56)\n",
      "After UpSampling, the shape of train_y: (20132,) \n",
      "\n"
     ]
    }
   ],
   "source": [
    "X_train_over, y_train_over = sm.fit_resample(X_train, y_train)\n",
    "\n",
    "\n",
    "print(\"After UpSampling, counts of label 'Yes': {}\".format(sum(y_train_over==1)))\n",
    "print(\"After UpSampling, counts of label 'No': {} \\n\".format(sum(y_train_over==0)))\n",
    "\n",
    "\n",
    "print('After UpSampling, the shape of train_X: {}'.format(X_train_over.shape))\n",
    "print('After UpSampling, the shape of train_y: {} \\n'.format(y_train_over.shape))"
   ]
  },
  {
   "cell_type": "markdown",
   "metadata": {},
   "source": [
    "### Logistic Regression on oversampled data"
   ]
  },
  {
   "cell_type": "code",
   "execution_count": 185,
   "metadata": {},
   "outputs": [
    {
     "data": {
      "text/plain": [
       "LogisticRegression(random_state=1)"
      ]
     },
     "execution_count": 185,
     "metadata": {},
     "output_type": "execute_result"
    }
   ],
   "source": [
    "log_reg_over = LogisticRegression(random_state = 1)\n",
    "\n",
    "# Training the basic logistic regression model with training set \n",
    "log_reg_over.fit(X_train_over,y_train_over)"
   ]
  },
  {
   "cell_type": "markdown",
   "metadata": {},
   "source": [
    "**Let's evaluate the model performance by using KFold and cross_val_score**\n",
    "\n",
    "- `K-Folds cross-validator` provides dataset indices to split data into train/validation sets. Split dataset into k consecutive stratified folds (without shuffling by default). Each fold is then used once as validation while the k - 1 remaining folds form the training set."
   ]
  },
  {
   "cell_type": "code",
   "execution_count": 187,
   "metadata": {
    "scrolled": true
   },
   "outputs": [
    {
     "data": {
      "image/png": "[encoded data removed]",
      "text/plain": [
       "<Figure size 432x288 with 1 Axes>"
      ]
     },
     "metadata": {},
     "output_type": "display_data"
    }
   ],
   "source": [
    "scoring='recall'\n",
    "kfold=StratifiedKFold(n_splits=5,shuffle=True,random_state=1)     #Setting number of splits equal to 5\n",
    "cv_result_over=cross_val_score(estimator=log_reg_over, X=X_train_over, y=y_train_over, scoring=scoring, cv=kfold)\n",
    "#Plotting boxplots for CV scores of model defined above\n",
    "plt.boxplot(cv_result_over)\n",
    "plt.show()"
   ]
  },
  {
   "cell_type": "code",
   "execution_count": 188,
   "metadata": {},
   "outputs": [
    {
     "data": {
      "text/plain": [
       "array([0.77844014, 0.77507448, 0.78986587, 0.79880775, 0.7893691 ])"
      ]
     },
     "execution_count": 188,
     "metadata": {},
     "output_type": "execute_result"
    }
   ],
   "source": [
    "cv_result_over"
   ]
  },
  {
   "cell_type": "markdown",
   "metadata": {},
   "source": [
    "* Performance of model on training set varies between 0.76 to 0.81, which is an improvement from the previous model\n",
    "* Let's check the performance on the test set."
   ]
  },
  {
   "cell_type": "code",
   "execution_count": 189,
   "metadata": {},
   "outputs": [
    {
     "name": "stdout",
     "output_type": "stream",
     "text": [
      "Accuracy on training set :  0.8175044704947347\n",
      "Accuracy on test set :  0.7390396659707724\n",
      "Recall on training set :  0.7885952712100139\n",
      "Recall on test set :  0.4173063503140265\n",
      "Precision on training set :  0.8369886123998312\n",
      "Precision on test set :  0.4734758511480602\n"
     ]
    },
    {
     "data": {
      "image/png": "[encoded data removed]",
      "text/plain": [
       "<Figure size 720x504 with 2 Axes>"
      ]
     },
     "metadata": {},
     "output_type": "display_data"
    }
   ],
   "source": [
    "#Calculating different metrics\n",
    "get_metrics_score(log_reg_over,X_train_over,X_test,y_train_over,y_test)\n",
    "\n",
    "# creating confusion matrix\n",
    "make_confusion_matrix(log_reg_over,y_test)"
   ]
  },
  {
   "cell_type": "markdown",
   "metadata": {},
   "source": [
    "* Performance on the training set improved but the model is not able to replicate the same for the test set.\n",
    "* Model is overfitting.\n",
    "* Lets try:\n",
    "\n",
    "  a) Regularization to see if overfitting can be reduced\n",
    "\n",
    "  b) Undersampling the train to handle the imbalance between classes and check the model performance."
   ]
  },
  {
   "cell_type": "markdown",
   "metadata": {},
   "source": [
    "### Regularization"
   ]
  },
  {
   "cell_type": "code",
   "execution_count": 190,
   "metadata": {},
   "outputs": [
    {
     "data": {
      "text/plain": [
       "LogisticRegression(C=0.1, random_state=1, solver='saga')"
      ]
     },
     "execution_count": 190,
     "metadata": {},
     "output_type": "execute_result"
    }
   ],
   "source": [
    "# Choose the type of classifier. \n",
    "lr_estimator = LogisticRegression(random_state=1,solver='saga')\n",
    "\n",
    "# Grid of parameters to choose from\n",
    "parameters = {'C': np.arange(0.1,1.1,0.1)}\n",
    "\n",
    "# Run the grid search\n",
    "grid_obj = GridSearchCV(lr_estimator, parameters, scoring='recall')\n",
    "grid_obj = grid_obj.fit(X_train_over, y_train_over)\n",
    "\n",
    "# Set the clf to the best combination of parameters\n",
    "lr_estimator = grid_obj.best_estimator_\n",
    "\n",
    "# Fit the best algorithm to the data. \n",
    "lr_estimator.fit(X_train_over, y_train_over)"
   ]
  },
  {
   "cell_type": "code",
   "execution_count": 191,
   "metadata": {},
   "outputs": [
    {
     "name": "stdout",
     "output_type": "stream",
     "text": [
      "Accuracy on training set :  0.768478044903636\n",
      "Accuracy on test set :  0.7369519832985386\n",
      "Recall on training set :  0.719650307967415\n",
      "Recall on test set :  0.5059316120027914\n",
      "Precision on training set :  0.7975338544533744\n",
      "Precision on test set :  0.47416612164813604\n"
     ]
    },
    {
     "data": {
      "image/png": "[encoded data removed]",
      "text/plain": [
       "<Figure size 720x504 with 2 Axes>"
      ]
     },
     "metadata": {},
     "output_type": "display_data"
    }
   ],
   "source": [
    "#Calculating different metrics\n",
    "get_metrics_score(lr_estimator,X_train_over,X_test,y_train_over,y_test)\n",
    "\n",
    "# creating confusion matrix\n",
    "make_confusion_matrix(lr_estimator,y_test)"
   ]
  },
  {
   "cell_type": "markdown",
   "metadata": {},
   "source": [
    "* After regularization, overfitting has reduced to some extent and the model is also performing well.\n",
    "* Let's try undersampling now."
   ]
  },
  {
   "cell_type": "markdown",
   "metadata": {},
   "source": [
    "### Undersampling train data using SMOTE"
   ]
  },
  {
   "cell_type": "code",
   "execution_count": 192,
   "metadata": {},
   "outputs": [],
   "source": [
    "from imblearn.under_sampling import RandomUnderSampler\n",
    "rus = RandomUnderSampler(random_state = 1)\n",
    "X_train_un, y_train_un = rus.fit_resample(X_train, y_train)"
   ]
  },
  {
   "cell_type": "code",
   "execution_count": 193,
   "metadata": {},
   "outputs": [
    {
     "name": "stdout",
     "output_type": "stream",
     "text": [
      "Before Under Sampling, counts of label 'Yes': 3344\n",
      "Before Under Sampling, counts of label 'No': 10066 \n",
      "\n",
      "After Under Sampling, counts of label 'Yes': 3344\n",
      "After Under Sampling, counts of label 'No': 3344 \n",
      "\n",
      "After Under Sampling, the shape of train_X: (6688, 56)\n",
      "After Under Sampling, the shape of train_y: (6688,) \n",
      "\n"
     ]
    }
   ],
   "source": [
    "print(\"Before Under Sampling, counts of label 'Yes': {}\".format(sum(y_train==1)))\n",
    "print(\"Before Under Sampling, counts of label 'No': {} \\n\".format(sum(y_train==0)))\n",
    "\n",
    "print(\"After Under Sampling, counts of label 'Yes': {}\".format(sum(y_train_un==1)))\n",
    "print(\"After Under Sampling, counts of label 'No': {} \\n\".format(sum(y_train_un==0)))\n",
    "\n",
    "print('After Under Sampling, the shape of train_X: {}'.format(X_train_un.shape))\n",
    "print('After Under Sampling, the shape of train_y: {} \\n'.format(y_train_un.shape))"
   ]
  },
  {
   "cell_type": "markdown",
   "metadata": {},
   "source": [
    "### Logistic Regression on undersampled data"
   ]
  },
  {
   "cell_type": "code",
   "execution_count": 194,
   "metadata": {},
   "outputs": [
    {
     "data": {
      "text/plain": [
       "LogisticRegression(random_state=1)"
      ]
     },
     "execution_count": 194,
     "metadata": {},
     "output_type": "execute_result"
    }
   ],
   "source": [
    "log_reg_under = LogisticRegression(random_state = 1)\n",
    "log_reg_under.fit(X_train_un,y_train_un )"
   ]
  },
  {
   "cell_type": "markdown",
   "metadata": {},
   "source": [
    "**Let's evaluate the model performance by using KFold and cross_val_score**\n",
    "\n",
    "- `K-Folds cross-validator` provides dataset indices to split data into train/validation sets. Split dataset into k consecutive stratified folds (without shuffling by default). Each fold is then used once as validation while the k - 1 remaining folds form the training set."
   ]
  },
  {
   "cell_type": "code",
   "execution_count": 195,
   "metadata": {},
   "outputs": [
    {
     "data": {
      "image/png": "[encoded data removed]",
      "text/plain": [
       "<Figure size 432x288 with 1 Axes>"
      ]
     },
     "metadata": {},
     "output_type": "display_data"
    }
   ],
   "source": [
    "scoring='recall'\n",
    "kfold=StratifiedKFold(n_splits=5,shuffle=True,random_state=1)     #Setting number of splits equal to 5\n",
    "cv_result_under=cross_val_score(estimator=log_reg_under, X=X_train_un, y=y_train_un, scoring=scoring, cv=kfold)\n",
    "#Plotting boxplots for CV scores of model defined above\n",
    "plt.boxplot(cv_result_under)\n",
    "plt.show()"
   ]
  },
  {
   "cell_type": "markdown",
   "metadata": {},
   "source": [
    "* Performance of model on training set varies between 0.62 to 0.67, which is an improvement from the initial model(without oversampling)\n",
    "* Let's check the performance on the test set."
   ]
  },
  {
   "cell_type": "code",
   "execution_count": 196,
   "metadata": {},
   "outputs": [
    {
     "name": "stdout",
     "output_type": "stream",
     "text": [
      "Accuracy on training set :  0.7076854066985646\n",
      "Accuracy on test set :  0.7270354906054279\n",
      "Recall on training set :  0.6522129186602871\n",
      "Recall on test set :  0.6496859734822051\n",
      "Precision on training set :  0.7336024217961655\n",
      "Precision on test set :  0.46596596596596596\n"
     ]
    },
    {
     "data": {
      "image/png": "[encoded data removed]",
      "text/plain": [
       "<Figure size 720x504 with 2 Axes>"
      ]
     },
     "metadata": {},
     "output_type": "display_data"
    }
   ],
   "source": [
    "#Calculating different metrics\n",
    "get_metrics_score(log_reg_under,X_train_un,X_test,y_train_un,y_test)\n",
    "\n",
    "\n",
    "# creating confusion matrix\n",
    "make_confusion_matrix(log_reg_under,y_test)"
   ]
  },
  {
   "cell_type": "markdown",
   "metadata": {},
   "source": [
    "* Model has given a generalized performance on training and test set.\n",
    "* Model performance has improved using downsampling - Logistic regression is now able to differentiate well between positive and negative classes."
   ]
  },
  {
   "cell_type": "code",
   "execution_count": 197,
   "metadata": {},
   "outputs": [],
   "source": [
    "# defining list of model\n",
    "models = [lr]\n",
    "\n",
    "# defining empty lists to add train and test results\n",
    "acc_train = []\n",
    "acc_test = []\n",
    "recall_train = []\n",
    "recall_test = []\n",
    "precision_train = []\n",
    "precision_test = []\n",
    "\n",
    "# looping through all the models to get the metrics score - Accuracy, Recall and Precision\n",
    "for model in models:\n",
    "    \n",
    "    j = get_metrics_score(model,X_train,X_test,y_train,y_test,False)\n",
    "    acc_train.append(j[0])\n",
    "    acc_test.append(j[1])\n",
    "    recall_train.append(j[2])\n",
    "    recall_test.append(j[3])\n",
    "    precision_train.append(j[4])\n",
    "    precision_test.append(j[5])"
   ]
  },
  {
   "cell_type": "code",
   "execution_count": 198,
   "metadata": {},
   "outputs": [],
   "source": [
    "# defining list of models\n",
    "models = [log_reg_over, lr_estimator]\n",
    "\n",
    "# looping through all the models to get the metrics score - Accuracy, Recall and Precision\n",
    "for model in models:\n",
    "    \n",
    "    j = get_metrics_score(model,X_train_over,X_test,y_train_over,y_test,False)\n",
    "    acc_train.append(j[0])\n",
    "    acc_test.append(j[1])\n",
    "    recall_train.append(j[2])\n",
    "    recall_test.append(j[3])\n",
    "    precision_train.append(j[4])\n",
    "    precision_test.append(j[5])"
   ]
  },
  {
   "cell_type": "code",
   "execution_count": 199,
   "metadata": {},
   "outputs": [],
   "source": [
    "# defining list of model\n",
    "models = [log_reg_under]\n",
    "\n",
    "# looping through all the models to get the metrics score - Accuracy, Recall and Precision\n",
    "for model in models:\n",
    "    \n",
    "    j = get_metrics_score(model,X_train_un,X_test,y_train_un,y_test,False)\n",
    "    acc_train.append(j[0])\n",
    "    acc_test.append(j[1])\n",
    "    recall_train.append(j[2])\n",
    "    recall_test.append(j[3])\n",
    "    precision_train.append(j[4])\n",
    "    precision_test.append(j[5])"
   ]
  },
  {
   "cell_type": "code",
   "execution_count": 200,
   "metadata": {},
   "outputs": [
    {
     "data": {
      "text/html": [
       "<div>\n",
       "<style scoped>\n",
       "    .dataframe tbody tr th:only-of-type {\n",
       "        vertical-align: middle;\n",
       "    }\n",
       "\n",
       "    .dataframe tbody tr th {\n",
       "        vertical-align: top;\n",
       "    }\n",
       "\n",
       "    .dataframe thead th {\n",
       "        text-align: right;\n",
       "    }\n",
       "</style>\n",
       "<table border=\"1\" class=\"dataframe\">\n",
       "  <thead>\n",
       "    <tr style=\"text-align: right;\">\n",
       "      <th></th>\n",
       "      <th>Model</th>\n",
       "      <th>Train_Accuracy</th>\n",
       "      <th>Test_Accuracy</th>\n",
       "      <th>Train_Recall</th>\n",
       "      <th>Test_Recall</th>\n",
       "      <th>Train_Precision</th>\n",
       "      <th>Test_Precision</th>\n",
       "    </tr>\n",
       "  </thead>\n",
       "  <tbody>\n",
       "    <tr>\n",
       "      <th>0</th>\n",
       "      <td>Logistic Regression</td>\n",
       "      <td>0.766592</td>\n",
       "      <td>0.760960</td>\n",
       "      <td>0.264653</td>\n",
       "      <td>0.258897</td>\n",
       "      <td>0.568766</td>\n",
       "      <td>0.543192</td>\n",
       "    </tr>\n",
       "    <tr>\n",
       "      <th>1</th>\n",
       "      <td>Logistic Regression on Oversampled data</td>\n",
       "      <td>0.817504</td>\n",
       "      <td>0.739040</td>\n",
       "      <td>0.788595</td>\n",
       "      <td>0.417306</td>\n",
       "      <td>0.836989</td>\n",
       "      <td>0.473476</td>\n",
       "    </tr>\n",
       "    <tr>\n",
       "      <th>2</th>\n",
       "      <td>Logistic Regression-Regularized (Oversampled d...</td>\n",
       "      <td>0.768478</td>\n",
       "      <td>0.736952</td>\n",
       "      <td>0.719650</td>\n",
       "      <td>0.505932</td>\n",
       "      <td>0.797534</td>\n",
       "      <td>0.474166</td>\n",
       "    </tr>\n",
       "    <tr>\n",
       "      <th>3</th>\n",
       "      <td>Logistic Regression on Undersampled data</td>\n",
       "      <td>0.707685</td>\n",
       "      <td>0.727035</td>\n",
       "      <td>0.652213</td>\n",
       "      <td>0.649686</td>\n",
       "      <td>0.733602</td>\n",
       "      <td>0.465966</td>\n",
       "    </tr>\n",
       "  </tbody>\n",
       "</table>\n",
       "</div>"
      ],
      "text/plain": [
       "                                               Model  Train_Accuracy  \\\n",
       "0                                Logistic Regression        0.766592   \n",
       "1            Logistic Regression on Oversampled data        0.817504   \n",
       "2  Logistic Regression-Regularized (Oversampled d...        0.768478   \n",
       "3           Logistic Regression on Undersampled data        0.707685   \n",
       "\n",
       "   Test_Accuracy  Train_Recall  Test_Recall  Train_Precision  Test_Precision  \n",
       "0       0.760960      0.264653     0.258897         0.568766        0.543192  \n",
       "1       0.739040      0.788595     0.417306         0.836989        0.473476  \n",
       "2       0.736952      0.719650     0.505932         0.797534        0.474166  \n",
       "3       0.727035      0.652213     0.649686         0.733602        0.465966  "
      ]
     },
     "execution_count": 200,
     "metadata": {},
     "output_type": "execute_result"
    }
   ],
   "source": [
    "comparison_frame = pd.DataFrame({'Model':['Logistic Regression','Logistic Regression on Oversampled data',\n",
    "                                          'Logistic Regression-Regularized (Oversampled data)','Logistic Regression on Undersampled data'], \n",
    "                                          'Train_Accuracy': acc_train,'Test_Accuracy': acc_test,\n",
    "                                          'Train_Recall':recall_train,'Test_Recall':recall_test,\n",
    "                                          'Train_Precision':precision_train,'Test_Precision':precision_test}) \n",
    "\n",
    "#Sorting models in decreasing order of test recall\n",
    "comparison_frame"
   ]
  },
  {
   "cell_type": "markdown",
   "metadata": {},
   "source": [
    "* Logistic regression model on undersampled data has given a generalized performance with the highest recall on test data."
   ]
  },
  {
   "cell_type": "markdown",
   "metadata": {},
   "source": [
    "### Finding the coefficients"
   ]
  },
  {
   "cell_type": "code",
   "execution_count": 201,
   "metadata": {
    "scrolled": true
   },
   "outputs": [
    {
     "data": {
      "text/html": [
       "<div>\n",
       "<style scoped>\n",
       "    .dataframe tbody tr th:only-of-type {\n",
       "        vertical-align: middle;\n",
       "    }\n",
       "\n",
       "    .dataframe tbody tr th {\n",
       "        vertical-align: top;\n",
       "    }\n",
       "\n",
       "    .dataframe thead th {\n",
       "        text-align: right;\n",
       "    }\n",
       "</style>\n",
       "<table border=\"1\" class=\"dataframe\">\n",
       "  <thead>\n",
       "    <tr style=\"text-align: right;\">\n",
       "      <th></th>\n",
       "      <th>city_development_index</th>\n",
       "      <th>training_hours</th>\n",
       "      <th>city_Developing</th>\n",
       "      <th>city_Developed</th>\n",
       "      <th>gender_Male</th>\n",
       "      <th>gender_Other</th>\n",
       "      <th>relevent_experience_No relevent experience</th>\n",
       "      <th>enrolled_university_Part time course</th>\n",
       "      <th>enrolled_university_no_enrollment</th>\n",
       "      <th>education_level_High School</th>\n",
       "      <th>...</th>\n",
       "      <th>company_type_Funded Startup</th>\n",
       "      <th>company_type_NGO</th>\n",
       "      <th>company_type_Other</th>\n",
       "      <th>company_type_Public Sector</th>\n",
       "      <th>company_type_Pvt Ltd</th>\n",
       "      <th>last_new_job_2</th>\n",
       "      <th>last_new_job_3</th>\n",
       "      <th>last_new_job_4</th>\n",
       "      <th>last_new_job_&gt;4</th>\n",
       "      <th>last_new_job_never</th>\n",
       "    </tr>\n",
       "  </thead>\n",
       "  <tbody>\n",
       "    <tr>\n",
       "      <th>coef</th>\n",
       "      <td>-0.581535</td>\n",
       "      <td>-0.00089</td>\n",
       "      <td>-1.518925</td>\n",
       "      <td>-1.441303</td>\n",
       "      <td>-0.182083</td>\n",
       "      <td>0.343786</td>\n",
       "      <td>0.399158</td>\n",
       "      <td>-0.427104</td>\n",
       "      <td>-0.408189</td>\n",
       "      <td>-0.628334</td>\n",
       "      <td>...</td>\n",
       "      <td>0.227841</td>\n",
       "      <td>-0.525078</td>\n",
       "      <td>0.272296</td>\n",
       "      <td>-0.137054</td>\n",
       "      <td>-0.260003</td>\n",
       "      <td>-0.035005</td>\n",
       "      <td>0.04303</td>\n",
       "      <td>0.15007</td>\n",
       "      <td>0.052441</td>\n",
       "      <td>-0.259511</td>\n",
       "    </tr>\n",
       "  </tbody>\n",
       "</table>\n",
       "<p>1 rows × 56 columns</p>\n",
       "</div>"
      ],
      "text/plain": [
       "      city_development_index  training_hours  city_Developing  city_Developed  \\\n",
       "coef               -0.581535        -0.00089        -1.518925       -1.441303   \n",
       "\n",
       "      gender_Male  gender_Other  relevent_experience_No relevent experience  \\\n",
       "coef    -0.182083      0.343786                                    0.399158   \n",
       "\n",
       "      enrolled_university_Part time course  enrolled_university_no_enrollment  \\\n",
       "coef                             -0.427104                          -0.408189   \n",
       "\n",
       "      education_level_High School  ...  company_type_Funded Startup  \\\n",
       "coef                    -0.628334  ...                     0.227841   \n",
       "\n",
       "      company_type_NGO  company_type_Other  company_type_Public Sector  \\\n",
       "coef         -0.525078            0.272296                   -0.137054   \n",
       "\n",
       "      company_type_Pvt Ltd  last_new_job_2  last_new_job_3  last_new_job_4  \\\n",
       "coef             -0.260003       -0.035005         0.04303         0.15007   \n",
       "\n",
       "      last_new_job_>4  last_new_job_never  \n",
       "coef         0.052441           -0.259511  \n",
       "\n",
       "[1 rows x 56 columns]"
      ]
     },
     "execution_count": 201,
     "metadata": {},
     "output_type": "execute_result"
    }
   ],
   "source": [
    "log_odds = log_reg_under.coef_[0]\n",
    "pd.DataFrame(log_odds, X_train_un.columns, columns=['coef']).T"
   ]
  },
  {
   "cell_type": "markdown",
   "metadata": {},
   "source": [
    "###  Converting coefficients to odds"
   ]
  },
  {
   "cell_type": "code",
   "execution_count": 202,
   "metadata": {
    "scrolled": false
   },
   "outputs": [
    {
     "data": {
      "text/html": [
       "<div>\n",
       "<style scoped>\n",
       "    .dataframe tbody tr th:only-of-type {\n",
       "        vertical-align: middle;\n",
       "    }\n",
       "\n",
       "    .dataframe tbody tr th {\n",
       "        vertical-align: top;\n",
       "    }\n",
       "\n",
       "    .dataframe thead th {\n",
       "        text-align: right;\n",
       "    }\n",
       "</style>\n",
       "<table border=\"1\" class=\"dataframe\">\n",
       "  <thead>\n",
       "    <tr style=\"text-align: right;\">\n",
       "      <th></th>\n",
       "      <th>city_development_index</th>\n",
       "      <th>training_hours</th>\n",
       "      <th>city_Developing</th>\n",
       "      <th>city_Developed</th>\n",
       "      <th>gender_Male</th>\n",
       "      <th>gender_Other</th>\n",
       "      <th>relevent_experience_No relevent experience</th>\n",
       "      <th>enrolled_university_Part time course</th>\n",
       "      <th>enrolled_university_no_enrollment</th>\n",
       "      <th>education_level_High School</th>\n",
       "      <th>...</th>\n",
       "      <th>company_type_Funded Startup</th>\n",
       "      <th>company_type_NGO</th>\n",
       "      <th>company_type_Other</th>\n",
       "      <th>company_type_Public Sector</th>\n",
       "      <th>company_type_Pvt Ltd</th>\n",
       "      <th>last_new_job_2</th>\n",
       "      <th>last_new_job_3</th>\n",
       "      <th>last_new_job_4</th>\n",
       "      <th>last_new_job_&gt;4</th>\n",
       "      <th>last_new_job_never</th>\n",
       "    </tr>\n",
       "  </thead>\n",
       "  <tbody>\n",
       "    <tr>\n",
       "      <th>odds</th>\n",
       "      <td>0.788782</td>\n",
       "      <td>0.00089</td>\n",
       "      <td>3.567314</td>\n",
       "      <td>3.226201</td>\n",
       "      <td>0.199714</td>\n",
       "      <td>0.410276</td>\n",
       "      <td>0.490568</td>\n",
       "      <td>0.532811</td>\n",
       "      <td>0.504092</td>\n",
       "      <td>0.874484</td>\n",
       "      <td>...</td>\n",
       "      <td>0.255885</td>\n",
       "      <td>0.690591</td>\n",
       "      <td>0.312975</td>\n",
       "      <td>0.14689</td>\n",
       "      <td>0.296934</td>\n",
       "      <td>0.035625</td>\n",
       "      <td>0.043969</td>\n",
       "      <td>0.161916</td>\n",
       "      <td>0.05384</td>\n",
       "      <td>0.296296</td>\n",
       "    </tr>\n",
       "  </tbody>\n",
       "</table>\n",
       "<p>1 rows × 56 columns</p>\n",
       "</div>"
      ],
      "text/plain": [
       "      city_development_index  training_hours  city_Developing  city_Developed  \\\n",
       "odds                0.788782         0.00089         3.567314        3.226201   \n",
       "\n",
       "      gender_Male  gender_Other  relevent_experience_No relevent experience  \\\n",
       "odds     0.199714      0.410276                                    0.490568   \n",
       "\n",
       "      enrolled_university_Part time course  enrolled_university_no_enrollment  \\\n",
       "odds                              0.532811                           0.504092   \n",
       "\n",
       "      education_level_High School  ...  company_type_Funded Startup  \\\n",
       "odds                     0.874484  ...                     0.255885   \n",
       "\n",
       "      company_type_NGO  company_type_Other  company_type_Public Sector  \\\n",
       "odds          0.690591            0.312975                     0.14689   \n",
       "\n",
       "      company_type_Pvt Ltd  last_new_job_2  last_new_job_3  last_new_job_4  \\\n",
       "odds              0.296934        0.035625        0.043969        0.161916   \n",
       "\n",
       "      last_new_job_>4  last_new_job_never  \n",
       "odds          0.05384            0.296296  \n",
       "\n",
       "[1 rows x 56 columns]"
      ]
     },
     "execution_count": 202,
     "metadata": {},
     "output_type": "execute_result"
    }
   ],
   "source": [
    "odds = np.exp(np.abs(log_reg_under.coef_[0]))-1\n",
    "pd.set_option('display.max_rows',None)\n",
    "pd.DataFrame(odds, X_train_un.columns, columns=['odds']).T"
   ]
  },
  {
   "cell_type": "markdown",
   "metadata": {},
   "source": [
    "### Conclusion"
   ]
  },
  {
   "cell_type": "markdown",
   "metadata": {},
   "source": [
    "* city_developement_index: For a one-unit increase in the city development index, we expect to see about a 109% decrease in the odds of a person looking for a job change.\n",
    "\n",
    "* training_hours: For a one-unit increase in the training hours, we expect to see about a 0.06% decrease in the odds of a person looking for a job change.\n",
    "\n",
    "* city - developing/developed: The odds of a person who is from a developing city looking for a job change is 355% lower than a person who is from an under-developed city. Similarly, The odds of a person who is from a developed city looking for a job change is 305% lower than a person who is from an under-developed city. (keeping under-developed cities as a reference).\n",
    "\n",
    "* gender - male/other -  The odds of a male looking for a job change is 4% lower than a female. Similarly, The odds of a person from 'other' gender looking for a job change is 37% higher than a female. (keeping females as a reference).\n",
    "\n",
    "* relevent experience - No relevant experience: The odds of a person who has no relevant job experience looking for a job change is 65% higher than a person who has some relevant experience.\n",
    "\n",
    "`Interpretation for other attributes can be made in a similar fashion.`"
   ]
  },
  {
   "cell_type": "markdown",
   "metadata": {},
   "source": [
    "### Business Insights and Recommendations"
   ]
  },
  {
   "cell_type": "markdown",
   "metadata": {},
   "source": [
    "* As we saw in our analysis and also the logistic regression model shows that several training hours have a very less impact on a person looking to change a job, so the company should not give high importance to this attribute while looking to hire a person.\n",
    "* A person from an under-developed city would highly be looking for a switch and if an enrollee fulfills the criterion of job role they should be given higher preference than enrollees from other cities (developed and underdeveloped).\n",
    "* To have a diverse culture in the company enrollees from other genders can be hired as they are more likely to look for a new job role.\n",
    "* Enrollees with no relevant experience or no experience - generally freshers are more likely to look for a job and such enrollees on fulfilling the criterion of job should be the ones the company should focus on.\n",
    "* Enrollees from early-stage startups, public sectors, or NGOs are more likely to switch to a new role as compared to the ones from the Private sector or Funded startups.\n",
    "* Company size is an important aspect, those enrollees who have been in a company with a higher number of employees (1000-5000 or 10000+) are the ones who are actively looking for a switch - Such enrollees might now be looking for higher roles in team management, or it is much easier for such enrollees to fit into a workplace with so higher exposure to working environment."
   ]
  },
  {
   "cell_type": "markdown",
   "metadata": {},
   "source": [
    "**Note-**\n",
    "* The aim of this case study is to cover the concepts of week 1 in model tuning, More predictive models and hyperparameter tuning can be tried to improve the model results."
   ]
  }
 ],
 "metadata": {
  "kernelspec": {
   "display_name": "Python 3",
   "language": "python",
   "name": "python3"
  },
  "language_info": {
   "codemirror_mode": {
    "name": "ipython",
    "version": 3
   },
   "file_extension": ".py",
   "mimetype": "text/x-python",
   "name": "python",
   "nbconvert_exporter": "python",
   "pygments_lexer": "ipython3",
   "version": "3.7.10"
  },
  "widgets": {
   "application/vnd.jupyter.widget-state+json": {
    "state": {},
    "version_major": 2,
    "version_minor": 0
   }
  }
 },
 "nbformat": 4,
 "nbformat_minor": 4
}
